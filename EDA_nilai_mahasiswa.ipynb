{
 "cells": [
  {
   "cell_type": "code",
   "execution_count": 8,
   "id": "a07d3586",
   "metadata": {},
   "outputs": [],
   "source": [
    "import csv\n",
    "import math\n",
    "import matplotlib.pyplot as plt\n",
    "import numpy as np"
   ]
  },
  {
   "cell_type": "code",
   "execution_count": 78,
   "id": "2089bc53",
   "metadata": {},
   "outputs": [
    {
     "data": {
      "text/plain": [
       "(['\\ufeffNAMA', 'NIM', 'NILAI'],\n",
       " [['Denis;23757466;200', '', ''],\n",
       "  ['Jarwo;23757467;45', '', ''],\n",
       "  ['Adit;23757468;67', '', ''],\n",
       "  ['Mikel;42375746;89', '', ''],\n",
       "  ['Supni;23757470;', '', '']])"
      ]
     },
     "execution_count": 78,
     "metadata": {},
     "output_type": "execute_result"
    }
   ],
   "source": [
    "namaFile = 'DATASET\\dataset_nilai_mahasiswa.csv'\n",
    "\n",
    "with open(namaFile, newline = '', encoding = 'utf-8') as file:\n",
    "  reader = csv.reader(file)\n",
    "  header = next(reader)\n",
    "  data = [row for row in reader]\n",
    "\n",
    "header, data[:5]"
   ]
  },
  {
   "cell_type": "code",
   "execution_count": 79,
   "id": "cd05fc9d",
   "metadata": {},
   "outputs": [
    {
     "name": "stdout",
     "output_type": "stream",
     "text": [
      "[['Denis', '23757466', '200'], ['Jarwo', '23757467', '45'], ['Adit', '23757468', '67'], ['Mikel', '42375746', '89'], ['Supni', '23757470', ''], ['Abraham', '23757471', ''], ['Gita', '23757471', '78'], ['Ibnu', '23757473', '67'], ['Kurniawan', '23757474', '67'], ['Kurniadi', '23757475', '88'], ['Ilham', '23757476', '89'], ['Kipli', '23757477', '100'], ['Saepuloh', '23757478', '100'], ['Anwar', '23757479', '45'], ['Adnan', '23757480', '35'], ['Andre', '23757481', '20'], ['Darius', '23757482', '67'], ['Elly', '23757483', '56'], ['Joel', '23757485', '65'], ['Abby', '23757487', '54'], ['Dina', '23757488', '64'], ['Amara', '23757489', '44'], ['Kenta', '23757490', '89'], ['Winda', '23757491', '78'], ['Solihin', '23757492', '100'], ['Diki', '23757493', '90'], ['Supriadi', '23757494', '98'], ['Intan', '23757495', '98'], ['Agus', '23757497', '98'], ['Angel', '23757498', '96'], ['Qory', '23757499', '96'], ['Alfin', '23757500', '94'], ['Nindi', '23757501', '65'], ['Diandra', '23757502', '76'], ['Sukijang', '23757503', '87'], ['Anton', '23757504', '98'], ['Bijon', '23757505', '65'], ['Abul', '23757506', '76'], ['Yurzan', '23757507', '87'], ['Robby', '23757510', '98'], ['Kelvin', '23757511', '65'], ['Sendia', '23757512', '76'], ['Naufal', '23757513', '87'], ['Febriansyah', '23757514', '98'], ['Fauzan', '23757515', '87'], ['Rivandi', '23757516', '76'], ['Ido', '23757517', '65'], ['Miftah', '23757518', '76'], ['Aldy', '23757519', '76'], ['Yuka', '23757520', '65']]\n"
     ]
    }
   ],
   "source": [
    "data = [row[0].split(';') for row in data]\n",
    "print(data)"
   ]
  },
  {
   "cell_type": "code",
   "execution_count": 80,
   "id": "1eff1108",
   "metadata": {},
   "outputs": [
    {
     "name": "stdout",
     "output_type": "stream",
     "text": [
      "Missing value Ditemukan pada:\n",
      " - Baris 6, Kolom NILAI\n",
      " - Baris 7, Kolom NILAI\n",
      "Total Data yang Hilang: 2\n"
     ]
    }
   ],
   "source": [
    "missingValues = []\n",
    "\n",
    "for i, row in enumerate(data):\n",
    "  for j, value in enumerate(row):\n",
    "    if value.strip() == '' or value.lower() == \"nan\" or value is None:\n",
    "      missingValues.append((i + 2, header[j]))\n",
    "if missingValues:\n",
    "  print(f\"Missing value Ditemukan pada:\")\n",
    "  for row, col in missingValues:\n",
    "    print(f\" - Baris {row}, Kolom {col}\")\n",
    "  print(f\"Total Data yang Hilang: {len(missingValues)}\")\n",
    "else:\n",
    "  print(\"Tidak Ditemukan Missing Value.\")"
   ]
  },
  {
   "cell_type": "code",
   "execution_count": 81,
   "id": "22e06420",
   "metadata": {},
   "outputs": [
    {
     "name": "stdout",
     "output_type": "stream",
     "text": [
      "Data identik yang terduplikasi ditemukan:\n",
      " - Data: 23757471 ditemukan di baris: [7, 8]\n",
      "Total data identik yang terduplikasi: 2\n"
     ]
    }
   ],
   "source": [
    "duplikasi_identik = {}\n",
    "\n",
    "for i, row in enumerate(data):\n",
    "\n",
    "    key = row[1]  \n",
    "    if key in duplikasi_identik:\n",
    "        duplikasi_identik[key].append(i + 2)  \n",
    "    else:\n",
    "        duplikasi_identik[key] = [i + 2]\n",
    "\n",
    "\n",
    "duplikasi_identik = {key: value for key, value in duplikasi_identik.items() if len(value) > 1}\n",
    "totalDuplikasiIdentik = sum(len(rows) for rows in duplikasi_identik.values())\n",
    "\n",
    "\n",
    "if duplikasi_identik:\n",
    "    print(\"Data identik yang terduplikasi ditemukan:\")\n",
    "    for key, rows in duplikasi_identik.items():\n",
    "        print(f\" - Data: {key} ditemukan di baris: {rows}\")\n",
    "    print(f\"Total data identik yang terduplikasi: {totalDuplikasiIdentik}\")\n",
    "else:\n",
    "    print(\"Tidak ada data identik yang terduplikasi.\")"
   ]
  },
  {
   "cell_type": "code",
   "execution_count": 91,
   "id": "4e62b9fd",
   "metadata": {},
   "outputs": [
    {
     "name": "stdout",
     "output_type": "stream",
     "text": [
      "Total Outlier: 1\n",
      "batas bawah: 0, batas atas: 100\n",
      "Outlier ditemukan: [200.0]\n"
     ]
    }
   ],
   "source": [
    "\n",
    "dataNilai = [float(row[2].replace(',', '')) for row in data if row[2].strip() != '' and row[2].lower() != 'nan']\n",
    "\n",
    "\n",
    "outliers = [value for value in dataNilai if value < 0 or value > 100]\n",
    "totalOutliers = len(outliers)\n",
    "print(f\"Total Outlier: {totalOutliers}\")\n",
    "\n",
    "print(f\"batas bawah: 0, batas atas: 100\")\n",
    "if outliers:\n",
    "    print(f\"Outlier ditemukan: {outliers}\")\n",
    "else:\n",
    "    print(\"Tidak ada outlier ditemukan\")"
   ]
  },
  {
   "cell_type": "code",
   "execution_count": 83,
   "id": "dc1aaa39",
   "metadata": {},
   "outputs": [
    {
     "name": "stdout",
     "output_type": "stream",
     "text": [
      "Jumlah data sebelum pembersihan: 50\n",
      "Jumlah data setelah pembersihan: 48\n",
      "Jumlah baris yang dihapus: 2\n"
     ]
    }
   ],
   "source": [
    "cleaned_data = [row for row in data if all(value.strip() != \"\" and value.lower() != \"nan\" and value is not None for value in row)]\n",
    "\n",
    "# Output hasil\n",
    "print(f\"Jumlah data sebelum pembersihan: {len(data)}\")\n",
    "print(f\"Jumlah data setelah pembersihan: {len(cleaned_data)}\")\n",
    "print(f\"Jumlah baris yang dihapus: {len(data) - len(cleaned_data)}\")"
   ]
  },
  {
   "cell_type": "code",
   "execution_count": 89,
   "id": "fd7276ea",
   "metadata": {},
   "outputs": [
    {
     "name": "stdout",
     "output_type": "stream",
     "text": [
      "Jumlah data sebelum penghapusan duplikasi: 48\n",
      "Jumlah data setelah penghapusan duplikasi: 48\n",
      "Jumlah baris yang dihapus: 0\n"
     ]
    }
   ],
   "source": [
    "dataUnik = []\n",
    "seen = set()\n",
    "\n",
    "for row in cleaned_data:\n",
    "    rowTuple = tuple(row)\n",
    "    if rowTuple not in seen:\n",
    "        seen.add(rowTuple)\n",
    "        dataUnik.append(row)\n",
    "print(f\"Jumlah data sebelum penghapusan duplikasi: {len(cleaned_data)}\")\n",
    "print(f\"Jumlah data setelah penghapusan duplikasi: {len(dataUnik)}\")\n",
    "print(f\"Jumlah baris yang dihapus: {len(cleaned_data) - len(dataUnik)}\")"
   ]
  },
  {
   "cell_type": "code",
   "execution_count": 93,
   "id": "3203dcdf",
   "metadata": {},
   "outputs": [
    {
     "name": "stdout",
     "output_type": "stream",
     "text": [
      "Jumlah data sebelum penghapusan outlier: 48\n",
      "Jumlah data setelah penghapusan outlier: 47\n",
      "Jumlah baris yang dihapus: 1\n"
     ]
    }
   ],
   "source": [
    "dataNilai = [float(row[2].replace(',', '')) for row in dataUnik if row[2].strip() != '' and row[2].lower() != 'nan']\n",
    "outliers = [value for value in dataNilai if value < 0 or value > 100]\n",
    "#hapus outlier\n",
    "data_bersih = [row for row in data if row[2].strip() != '' and row[2].lower() != 'nan' and float(row[2].replace(',', '')) not in outliers]\n",
    "\n",
    "# Output hasil\n",
    "print(f\"Jumlah data sebelum penghapusan outlier: {len(dataUnik)}\")\n",
    "print(f\"Jumlah data setelah penghapusan outlier: {len(data_bersih)}\")\n",
    "print(f\"Jumlah baris yang dihapus: {len(dataUnik) - len(data_bersih)}\")\n",
    "\n"
   ]
  },
  {
   "cell_type": "code",
   "execution_count": null,
   "id": "6d43af8e",
   "metadata": {},
   "outputs": [],
   "source": []
  }
 ],
 "metadata": {
  "kernelspec": {
   "display_name": "Python 3",
   "language": "python",
   "name": "python3"
  },
  "language_info": {
   "codemirror_mode": {
    "name": "ipython",
    "version": 3
   },
   "file_extension": ".py",
   "mimetype": "text/x-python",
   "name": "python",
   "nbconvert_exporter": "python",
   "pygments_lexer": "ipython3",
   "version": "3.11.1"
  }
 },
 "nbformat": 4,
 "nbformat_minor": 5
}
