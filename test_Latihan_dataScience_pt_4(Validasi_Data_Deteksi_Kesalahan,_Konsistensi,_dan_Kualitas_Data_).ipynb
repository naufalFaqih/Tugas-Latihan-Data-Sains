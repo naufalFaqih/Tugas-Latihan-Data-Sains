import unittest
import pandas as pd
from Latihan_dataScience_pt_4 import cleaned_data_with_valid_columns

# test_Latihan_dataScience_pt_4.py


class TestDataCleaning(unittest.TestCase):
    def test_remove_rows_with_missing_columns(self):
        # Mock data
        header = ["Kolom1", "Kolom2", "Kolom3"]
        segmentasiData = [
            ["Data1", "Data2", "Data3"],  # Valid row
            ["Data4", "Data5"],          # Invalid row (missing column)
            ["Data6", "Data7", "Data8"], # Valid row
            ["Data9"],                   # Invalid row (missing columns)
        ]

        # Convert to DataFrame
        df = pd.DataFrame(segmentasiData)

        # Remove rows with missing columns
        cleaned_df = df.dropna(axis=0, thresh=len(header))

        # Expected result
        expected_data = [
            ["Data1", "Data2", "Data3"],
            ["Data6", "Data7", "Data8"],
        ]
        expected_df = pd.DataFrame(expected_data)

        # Assertions
        pd.testing.assert_frame_equal(cleaned_df.reset_index(drop=True), expected_df)

if __name__ == "__main__":
    unittest.main()