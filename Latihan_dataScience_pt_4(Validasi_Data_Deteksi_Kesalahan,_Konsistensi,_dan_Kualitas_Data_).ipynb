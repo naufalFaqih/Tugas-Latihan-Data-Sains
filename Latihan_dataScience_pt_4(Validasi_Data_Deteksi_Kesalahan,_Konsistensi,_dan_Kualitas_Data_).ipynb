{
  "nbformat": 4,
  "nbformat_minor": 0,
  "metadata": {
    "colab": {
      "provenance": []
    },
    "kernelspec": {
      "name": "python3",
      "display_name": "Python 3"
    },
    "language_info": {
      "name": "python"
    }
  },
  "cells": [
    {
      "cell_type": "code",
      "execution_count": null,
      "metadata": {
        "id": "GwNEXPGiYnIs"
      },
      "outputs": [],
      "source": [
        "import csv\n",
        "import math\n",
        "import matplotlib.pyplot as plt"
      ]
    },
    {
      "cell_type": "markdown",
      "source": [
        "# Load Dataset dalam Bentuk CSV & Lakukan Validasi Kualitas\n"
      ],
      "metadata": {
        "id": "wBSay_6-GNai"
      }
    },
    {
      "cell_type": "code",
      "source": [
        "namaFile = '/content/drive/MyDrive/Colab Notebooks/Dataset latihan/HARGA RUMAH JAKSEL.csv'\n",
        "\n",
        "\n",
        "with open(namaFile, newline = '', encoding = 'utf-8') as file:\n",
        "  reader = csv.reader(file)\n",
        "  header = next(reader)\n",
        "  data = [row for row in reader]\n",
        "\n",
        "header, data[:5]"
      ],
      "metadata": {
        "colab": {
          "base_uri": "https://localhost:8080/"
        },
        "id": "QjP9s1vZ_ExI",
        "outputId": "d5c09e96-9d48-4600-9fe9-f4d6425ad6e1"
      },
      "execution_count": null,
      "outputs": [
        {
          "output_type": "execute_result",
          "data": {
            "text/plain": [
              "(['\\ufeffHARGA', 'LT', 'LB', 'JKT', 'JKM', 'GRS', 'KOTA'],\n",
              " [['28,000,000,000', '1100', '700', '5', '6', 'ADA', 'JAKSEL'],\n",
              "  ['19,000,000,000', '824', '800', '4', '4', 'ADA', 'JAKSEL'],\n",
              "  ['4,700,000,000', '500', '400', '4', '3', 'ADA', 'JAKSEL'],\n",
              "  ['4,900,000,000', '251', '300', '5', '4', 'ADA', 'JAKSEL'],\n",
              "  ['28,000,000,000', '1340', '575', '4', '5', 'ADA', 'JAKSEL']])"
            ]
          },
          "metadata": {},
          "execution_count": 2
        }
      ]
    },
    {
      "cell_type": "markdown",
      "source": [
        "# Proses Deteksi Missing Values"
      ],
      "metadata": {
        "id": "esJPij0eGhU0"
      }
    },
    {
      "cell_type": "code",
      "source": [
        "cleanedData = []\n",
        "missingValues = []\n",
        "\n",
        "for idx, row in enumerate(data, start=2):\n",
        "  cleanedRow = []\n",
        "  for i, value in enumerate(row):\n",
        "    value = value.strip()\n",
        "    if value == \"\":\n",
        "      missingValues.append((idx, header[i]))\n",
        "      cleanedRow.append(None)\n",
        "    else:\n",
        "      if header[i] in ['HARGA']:\n",
        "        cleanedRow.append(float(value.replace(',', '')))\n",
        "      elif header[i] in ['LT', 'LB', 'JKT', 'JKM']:\n",
        "        cleanedRow.append(int(value))\n",
        "      else:\n",
        "        cleanedRow.append(value)\n",
        "  cleanedData.append(cleanedRow)\n",
        "\n",
        "print(f\"Missing values pada kolom dan baris: {missingValues}, jumlahnya: {len(missingValues)}\")"
      ],
      "metadata": {
        "colab": {
          "base_uri": "https://localhost:8080/"
        },
        "id": "LHQLxp4cDImG",
        "outputId": "30beb7ff-887e-4d5b-cc31-682457ea47a2"
      },
      "execution_count": null,
      "outputs": [
        {
          "output_type": "stream",
          "name": "stdout",
          "text": [
            "Missing values pada kolom dan baris: [], jumlahnya: 0\n"
          ]
        }
      ]
    },
    {
      "cell_type": "code",
      "source": [],
      "metadata": {
        "id": "JkkSjZZWaggc"
      },
      "execution_count": null,
      "outputs": []
    },
    {
      "cell_type": "markdown",
      "source": [
        "# Statistika Deskriptif"
      ],
      "metadata": {
        "id": "jo0_W3YEaVyz"
      }
    },
    {
      "cell_type": "code",
      "source": [
        "def mean(data):\n",
        "  return sum(data) / len(data)\n",
        "\n",
        "def median(data):\n",
        "  data.sort()\n",
        "  if len(data) % 2 == 1:\n",
        "    return data[len(data) // 2]\n",
        "  else:\n",
        "    return (data[len(data) // 2 - 1] + data[len(data) // 2]) / 2\n",
        "\n",
        "def modus(data):\n",
        "  frekuensi = {}\n",
        "  for value in data:\n",
        "    if value in frekuensi:\n",
        "      frekuensi[value] += 1\n",
        "    else:\n",
        "      frekuensi[value] = 1\n",
        "  maxFrekuensi = max(frekuensi.values())\n",
        "  modus = [key for key, value in frekuensi.items() if value == maxFrekuensi]\n",
        "  if len(modus) == 1:\n",
        "    print(f\"Modus dari data adalah: {modus}\")\n",
        "  elif len(modus) > 1:\n",
        "    print(\"multimode dari data adalah: \", modus)\n",
        "  else:\n",
        "    print(\"tidak ada modus\")\n",
        "\n",
        "dataHarga = [float(row[0].replace(',', '')) for row in cleanedData if row is not None]\n",
        "print(f\"Mean: {mean(dataHarga)}\")\n",
        "print(f\"Median: {median(dataHarga)}\")\n",
        "print(f\"Modus: {modus(dataHarga)}\")"
      ],
      "metadata": {
        "id": "zT3qZrTEIdeL",
        "colab": {
          "base_uri": "https://localhost:8080/"
        },
        "outputId": "9b60975e-df2f-4e47-d02a-12b84c543086"
      },
      "execution_count": null,
      "outputs": [
        {
          "output_type": "stream",
          "name": "stdout",
          "text": [
            "Mean: 17474719280.71928\n",
            "Median: 13500000000.0\n",
            "Modus dari data adalah: [15000000000.0]\n",
            "Modus: None\n"
          ]
        }
      ]
    },
    {
      "cell_type": "code",
      "source": [],
      "metadata": {
        "id": "cUVcpKXHOHEy"
      },
      "execution_count": null,
      "outputs": []
    }
  ]
}