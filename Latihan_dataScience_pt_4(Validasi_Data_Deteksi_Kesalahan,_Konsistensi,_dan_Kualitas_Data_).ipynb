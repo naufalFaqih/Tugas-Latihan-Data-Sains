{
  "cells": [
    {
      "cell_type": "markdown",
      "metadata": {},
      "source": [
        "# Tugas Sains Data: [harga-rumah-jaksel-dataset]\n",
        "- **Nama Kelompok:** \n",
        "[Moh Naufal Faqih (10222044)], [Andika Fitra Ramadhan (10222043)], [Firman Firdaus (10222033)], [Ryan Azis Saputra (10222041)]\n",
        "- **Source Dataset:** [(https://www.kaggle.com/datasets/wisnuanggara/daftar-harga-rumah)]"
      ]
    },
    {
      "cell_type": "markdown",
      "metadata": {},
      "source": [
        "## Import Beberapa Library"
      ]
    },
    {
      "cell_type": "code",
      "execution_count": 1,
      "metadata": {
        "id": "GwNEXPGiYnIs"
      },
      "outputs": [],
      "source": [
        "import csv\n",
        "import math\n",
        "import matplotlib.pyplot as plt\n",
        "import numpy as np"
      ]
    },
    {
      "cell_type": "markdown",
      "metadata": {
        "id": "wBSay_6-GNai"
      },
      "source": [
        "## Muat Dataset dalam Bentuk CSV & Lakukan Validasi Kualitas\n"
      ]
    },
    {
      "cell_type": "code",
      "execution_count": 8,
      "metadata": {
        "colab": {
          "base_uri": "https://localhost:8080/"
        },
        "id": "QjP9s1vZ_ExI",
        "outputId": "d5c09e96-9d48-4600-9fe9-f4d6425ad6e1"
      },
      "outputs": [
        {
          "data": {
            "text/plain": [
              "(['\\ufeffHARGA', 'LT', 'LB', 'JKT', 'JKM', 'GRS', 'KOTA'],\n",
              " [['', '', '700', '5', '6', 'ADA', 'JAKSEL'],\n",
              "  ['19,000,000,000', '824', '800', '4', '4', 'ADA', 'JAKSEL'],\n",
              "  ['4,700,000,000', '500', '400', '4', '3', 'ADA', 'JAKSEL'],\n",
              "  ['4,900,000,000', '251', '300', '5', '4', 'ADA', 'JAKSEL'],\n",
              "  ['28,000,000,000', '1340', '575', '4', '5', 'ADA', 'JAKSEL']])"
            ]
          },
          "execution_count": 8,
          "metadata": {},
          "output_type": "execute_result"
        }
      ],
      "source": [
        "namaFile = 'DATASET\\HARGA RUMAH JAKSEL.csv'\n",
        "\n",
        "with open(namaFile, newline = '', encoding = 'utf-8') as file:\n",
        "  reader = csv.reader(file)\n",
        "  header = next(reader)\n",
        "  data = [row for row in reader]\n",
        "\n",
        "header, data[:5]"
      ]
    },
    {
      "cell_type": "markdown",
      "metadata": {},
      "source": [
        "## Assesing Data"
      ]
    },
    {
      "cell_type": "markdown",
      "metadata": {
        "id": "esJPij0eGhU0"
      },
      "source": [
        "### Proses Deteksi Missing Values"
      ]
    },
    {
      "cell_type": "code",
      "execution_count": 11,
      "metadata": {
        "colab": {
          "base_uri": "https://localhost:8080/"
        },
        "id": "LHQLxp4cDImG",
        "outputId": "30beb7ff-887e-4d5b-cc31-682457ea47a2"
      },
      "outputs": [
        {
          "name": "stdout",
          "output_type": "stream",
          "text": [
            "Missing value Ditemukan pada:\n",
            " - Baris 1, Kolom ﻿HARGA\n",
            " - Baris 1, Kolom LT\n",
            " - Baris 9, Kolom ﻿HARGA\n",
            " - Baris 19, Kolom ﻿HARGA\n",
            "Total Data yang Hilang: 4\n"
          ]
        }
      ],
      "source": [
        "missingValues = []\n",
        "\n",
        "for i, row in enumerate(data):\n",
        "  for j, value in enumerate(row):\n",
        "    if value.strip() == '' or value.lower() == \"nan\" or value is None:\n",
        "      missingValues.append((i + 1, header[j]))\n",
        "if missingValues:\n",
        "  print(f\"Missing value Ditemukan pada:\")\n",
        "  for row, col in missingValues:\n",
        "    print(f\" - Baris {row}, Kolom {col}\")\n",
        "  print(f\"Total Data yang Hilang: {len(missingValues)}\")\n",
        "else:\n",
        "  print(\"Tidak Ditemukan Missing Value.\")"
      ]
    },
    {
      "cell_type": "markdown",
      "metadata": {},
      "source": []
    },
    {
      "cell_type": "markdown",
      "metadata": {},
      "source": [
        "### Proses Deteksi Duplikasi"
      ]
    },
    {
      "cell_type": "code",
      "execution_count": null,
      "metadata": {},
      "outputs": [
        {
          "name": "stdout",
          "output_type": "stream",
          "text": [
            "Data identik yang terduplikasi ditemukan:\n",
            " - Data: ('7,600,000,000', '278', '350', '4', '4', 'ADA', 'JAKSEL') ditemukan di baris: [7, 109]\n",
            " - Data: ('7,000,000,000', '384', '400', '4', '4', 'ADA', 'JAKSEL') ditemukan di baris: [14, 285]\n",
            " - Data: ('5,800,000,000', '144', '285', '4', '3', 'ADA', 'JAKSEL') ditemukan di baris: [19, 318, 709]\n",
            " - Data: ('40,000,000,000', '1500', '700', '4', '4', 'ADA', 'JAKSEL') ditemukan di baris: [23, 125]\n",
            " - Data: ('5,680,000,000', '151', '245', '3', '3', 'ADA', 'JAKSEL') ditemukan di baris: [27, 544]\n",
            " - Data: ('10,500,000,000', '220', '350', '4', '3', 'ADA', 'JAKSEL') ditemukan di baris: [28, 435]\n",
            " - Data: ('7,050,000,000', '128', '315', '3', '3', 'ADA', 'JAKSEL') ditemukan di baris: [29, 823]\n",
            " - Data: ('68,000,000,000', '470', '1000', '5', '5', 'ADA', 'JAKSEL') ditemukan di baris: [32, 837]\n",
            " - Data: ('85,000,000,000', '770', '500', '4', '4', 'ADA', 'JAKSEL') ditemukan di baris: [34, 844]\n",
            " - Data: ('20,900,000,000', '754', '500', '4', '4', 'ADA', 'JAKSEL') ditemukan di baris: [36, 319]\n",
            " - Data: ('14,000,000,000', '410', '800', '4', '4', 'ADA', 'JAKSEL') ditemukan di baris: [38, 299]\n",
            " - Data: ('14,000,000,000', '460', '400', '4', '3', 'ADA', 'JAKSEL') ditemukan di baris: [71, 607]\n",
            " - Data: ('8,000,000,000', '323', '317', '5', '4', 'ADA', 'JAKSEL') ditemukan di baris: [75, 107]\n",
            " - Data: ('10,000,000,000', '395', '450', '5', '5', 'ADA', 'JAKSEL') ditemukan di baris: [79, 592]\n",
            " - Data: ('5,500,000,000', '234', '115', '2', '2', 'ADA', 'JAKSEL') ditemukan di baris: [93, 785]\n",
            " - Data: ('16,000,000,000', '407', '575', '5', '4', 'ADA', 'JAKSEL') ditemukan di baris: [122, 717]\n",
            " - Data: ('55,000,000,000', '1500', '1200', '6', '6', 'ADA', 'JAKSEL') ditemukan di baris: [128, 239]\n",
            " - Data: ('21,000,000,000', '1042', '550', '7', '6', 'ADA', 'JAKSEL') ditemukan di baris: [144, 722]\n",
            " - Data: ('22,000,000,000', '455', '570', '4', '5', 'ADA', 'JAKSEL') ditemukan di baris: [149, 228, 740]\n",
            " - Data: ('15,000,000,000', '714', '750', '5', '5', 'ADA', 'JAKSEL') ditemukan di baris: [155, 167]\n",
            " - Data: ('8,000,000,000', '380', '450', '5', '5', 'ADA', 'JAKSEL') ditemukan di baris: [161, 191]\n",
            " - Data: ('18,900,000,000', '470', '660', '4', '4', 'TIDAK ADA', 'JAKSEL') ditemukan di baris: [162, 192]\n",
            " - Data: ('21,900,000,000', '377', '260', '6', '5', 'ADA', 'JAKSEL') ditemukan di baris: [164, 193]\n",
            " - Data: ('5,600,000,000', '269', '300', '4', '4', 'ADA', 'JAKSEL') ditemukan di baris: [165, 194]\n",
            " - Data: ('13,500,000,000', '384', '450', '4', '4', 'ADA', 'JAKSEL') ditemukan di baris: [172, 223]\n",
            " - Data: ('11,900,000,000', '239', '568', '4', '4', 'ADA', 'JAKSEL') ditemukan di baris: [175, 217]\n",
            " - Data: ('3,600,000,000', '164', '150', '4', '4', 'ADA', 'JAKSEL') ditemukan di baris: [183, 585]\n",
            " - Data: ('3,400,000,000', '95', '156', '4', '3', 'ADA', 'JAKSEL') ditemukan di baris: [184, 197]\n",
            " - Data: ('4,000,000,000', '117', '221', '4', '3', 'ADA', 'JAKSEL') ditemukan di baris: [195, 204]\n",
            " - Data: ('17,500,000,000', '518', '450', '5', '7', 'ADA', 'JAKSEL') ditemukan di baris: [203, 310, 388, 580, 683, 706, 745]\n",
            " - Data: ('20,000,000,000', '1040', '600', '4', '3', 'ADA', 'JAKSEL') ditemukan di baris: [209, 661]\n",
            " - Data: ('13,000,000,000', '616', '600', '5', '4', 'ADA', 'JAKSEL') ditemukan di baris: [218, 913]\n",
            " - Data: ('10,500,000,000', '500', '700', '4', '4', 'ADA', 'JAKSEL') ditemukan di baris: [222, 542, 599]\n",
            " - Data: ('19,000,000,000', '435', '650', '4', '4', 'ADA', 'JAKSEL') ditemukan di baris: [238, 284]\n",
            " - Data: ('6,000,000,000', '200', '272', '4', '4', 'ADA', 'JAKSEL') ditemukan di baris: [259, 400]\n",
            " - Data: ('10,000,000,000', '475', '600', '5', '5', 'TIDAK ADA', 'JAKSEL') ditemukan di baris: [288, 566]\n",
            " - Data: ('8,500,000,000', '307', '400', '7', '6', 'TIDAK ADA', 'JAKSEL') ditemukan di baris: [297, 552]\n",
            " - Data: ('1,350,000,000', '72', '150', '3', '3', 'TIDAK ADA', 'JAKSEL') ditemukan di baris: [323, 775]\n",
            " - Data: ('14,500,000,000', '240', '450', '4', '4', 'ADA', 'JAKSEL') ditemukan di baris: [337, 660]\n",
            " - Data: ('15,000,000,000', '291', '400', '4', '4', 'ADA', 'JAKSEL') ditemukan di baris: [344, 822, 880]\n",
            " - Data: ('6,000,000,000', '144', '250', '4', '3', 'ADA', 'JAKSEL') ditemukan di baris: [378, 530]\n",
            " - Data: ('39,000,000,000', '973', '1100', '4', '4', 'ADA', 'JAKSEL') ditemukan di baris: [416, 744]\n",
            " - Data: ('17,000,000,000', '465', '640', '4', '4', 'ADA', 'JAKSEL') ditemukan di baris: [423, 669]\n",
            " - Data: ('8,500,000,000', '250', '400', '4', '4', 'ADA', 'JAKSEL') ditemukan di baris: [425, 481]\n",
            " - Data: ('17,000,000,000', '440', '350', '4', '4', 'ADA', 'JAKSEL') ditemukan di baris: [436, 455]\n",
            " - Data: ('22,000,000,000', '754', '500', '4', '4', 'ADA', 'JAKSEL') ditemukan di baris: [441, 445]\n",
            " - Data: ('23,000,000,000', '806', '700', '4', '4', 'ADA', 'JAKSEL') ditemukan di baris: [454, 465]\n",
            " - Data: ('9,500,000,000', '251', '295', '4', '4', 'ADA', 'JAKSEL') ditemukan di baris: [457, 464]\n",
            " - Data: ('12,500,000,000', '512', '350', '3', '3', 'ADA', 'JAKSEL') ditemukan di baris: [487, 575]\n",
            " - Data: ('22,600,000,000', '754', '500', '4', '4', 'ADA', 'JAKSEL') ditemukan di baris: [489, 702]\n",
            " - Data: ('16,000,000,000', '1095', '450', '3', '4', 'ADA', 'JAKSEL') ditemukan di baris: [503, 520]\n",
            " - Data: ('40,000,000,000', '973', '1100', '4', '4', 'ADA', 'JAKSEL') ditemukan di baris: [516, 718]\n",
            " - Data: ('19,000,000,000', '800', '500', '5', '4', 'ADA', 'JAKSEL') ditemukan di baris: [523, 584]\n",
            " - Data: ('5,500,000,000', '150', '210', '4', '4', 'ADA', 'JAKSEL') ditemukan di baris: [541, 603]\n",
            " - Data: ('26,000,000,000', '600', '450', '4', '4', 'ADA', 'JAKSEL') ditemukan di baris: [558, 626]\n",
            " - Data: ('33,000,000,000', '585', '900', '7', '6', 'ADA', 'JAKSEL') ditemukan di baris: [560, 703]\n",
            " - Data: ('16,000,000,000', '587', '350', '4', '3', 'ADA', 'JAKSEL') ditemukan di baris: [576, 621]\n",
            " - Data: ('700,000,000', '60', '52', '3', '2', 'ADA', 'JAKSEL') ditemukan di baris: [797, 814]\n",
            " - Data: ('14,900,000,000', '291', '400', '4', '4', 'TIDAK ADA', 'JAKSEL') ditemukan di baris: [802, 857]\n",
            " - Data: ('1,200,000,000', '60', '70', '3', '2', 'ADA', 'JAKSEL') ditemukan di baris: [806, 818, 890]\n",
            "Total data identik yang terduplikasi: 130\n"
          ]
        }
      ],
      "source": [
        "duplikasi_identik = {}\n",
        "\n",
        "for i, row in enumerate(data):\n",
        "\n",
        "    key = tuple(row)  \n",
        "    if key in duplikasi_identik:\n",
        "        duplikasi_identik[key].append(i + 1)  \n",
        "    else:\n",
        "        duplikasi_identik[key] = [i + 1]\n",
        "\n",
        "\n",
        "duplikasi_identik = {key: value for key, value in duplikasi_identik.items() if len(value) > 1}\n",
        "totalDuplikasiIdentik = sum(len(rows) for rows in duplikasi_identik.values())\n",
        "\n",
        "\n",
        "if duplikasi_identik:\n",
        "    print(\"Data identik yang terduplikasi ditemukan:\")\n",
        "    for key, rows in duplikasi_identik.items():\n",
        "        print(f\" - Data: {key} ditemukan di baris: {rows}\")\n",
        "    print(f\"Total data identik yang terduplikasi: {totalDuplikasiIdentik}\")\n",
        "else:\n",
        "    print(\"Tidak ada data identik yang terduplikasi.\")"
      ]
    },
    {
      "cell_type": "markdown",
      "metadata": {},
      "source": []
    },
    {
      "cell_type": "code",
      "execution_count": 21,
      "metadata": {},
      "outputs": [
        {
          "name": "stdout",
          "output_type": "stream",
          "text": [
            "Data duplikasi ditemukan pada kolom harga:\n",
            " - Nilai '19,000,000,000' ditemukan di baris: [1, 64, 65, 212, 222, 235, 238, 247, 259, 281, 491, 494, 512, 520, 533, 546, 580, 581, 610, 698, 771]\n",
            " - Nilai '4,700,000,000' ditemukan di baris: [2, 679, 755]\n",
            " - Nilai '4,900,000,000' ditemukan di baris: [3, 450, 907]\n",
            " - Nilai '28,000,000,000' ditemukan di baris: [4, 249, 410, 647, 743, 852, 872, 909, 924, 946, 972]\n",
            " - Nilai '10,000,000,000' ditemukan di baris: [5, 76, 242, 277, 285, 313, 345, 380, 426, 563, 589, 668, 677, 725]\n",
            " - Nilai '7,600,000,000' ditemukan di baris: [6, 106]\n",
            " - Nilai '5,250,000,000' ditemukan di baris: [7, 430, 672]\n",
            " - Nilai '10,700,000,000' ditemukan di baris: [9, 134, 674]\n",
            " - Nilai '4,200,000,000' ditemukan di baris: [10, 101, 468, 792, 806, 880]\n",
            " - Nilai '8,500,000,000' ditemukan di baris: [11, 73, 99, 210, 271, 294, 311, 372, 402, 422, 478, 549, 558, 621, 754, 861, 918, 922]\n",
            " - Nilai '7,000,000,000' ditemukan di baris: [12, 282, 339, 358, 359, 411, 472, 598, 612, 626, 876, 939]\n",
            " - Nilai '20,000,000,000' ditemukan di baris: [13, 38, 88, 144, 203, 206, 216, 264, 314, 327, 349, 360, 363, 400, 489, 504, 658, 660, 663, 686, 732, 973]\n",
            " - Nilai '9,500,000,000' ditemukan di baris: [14, 62, 211, 346, 384, 454, 461, 498, 511, 532, 550, 620, 822, 868]\n",
            " - Nilai '11,000,000,000' ditemukan di baris: [16, 124, 361, 369, 449, 584, 716, 763, 839, 866, 871, 927, 953]\n",
            " - Nilai '35,000,000,000' ditemukan di baris: [17, 436, 458, 495, 831]\n",
            " - Nilai '14,000,000,000' ditemukan di baris: [18, 35, 68, 112, 274, 296, 303, 322, 368, 376, 545, 576, 604, 607, 622, 752, 769, 790]\n",
            " - Nilai '5,000,000,000' ditemukan di baris: [19, 43, 163, 265, 298, 473, 640, 665, 750, 903]\n",
            " - Nilai '40,000,000,000' ditemukan di baris: [20, 122, 333, 513, 551, 588, 715, 845]\n",
            " - Nilai '5,200,000,000' ditemukan di baris: [22, 67, 643, 731, 858]\n",
            " - Nilai '25,000,000,000' ditemukan di baris: [23, 56, 86, 195, 260, 288, 299, 300, 335, 344, 392, 399, 417, 437, 493, 684, 770, 807, 937, 978]\n",
            " - Nilai '5,680,000,000' ditemukan di baris: [24, 541]\n",
            " - Nilai '10,500,000,000' ditemukan di baris: [25, 48, 219, 326, 367, 428, 432, 530, 539, 596, 724, 726, 787, 912, 947, 965]\n",
            " - Nilai '7,050,000,000' ditemukan di baris: [26, 820]\n",
            " - Nilai '6,500,000,000' ditemukan di baris: [28, 54, 127, 136, 254, 268, 270, 324, 391, 440, 455, 590, 664, 678, 708, 722, 913, 917, 943]\n",
            " - Nilai '68,000,000,000' ditemukan di baris: [29, 439, 834, 949]\n",
            " - Nilai '3,000,000,000' ditemukan di baris: [30, 842]\n",
            " - Nilai '85,000,000,000' ditemukan di baris: [31, 757, 841, 986]\n",
            " - Nilai '19,500,000,000' ditemukan di baris: [32, 464, 515, 562, 749]\n",
            " - Nilai '20,900,000,000' ditemukan di baris: [33, 316]\n",
            " - Nilai '15,500,000,000' ditemukan di baris: [34, 117, 174, 261, 597, 734, 777, 892, 911]\n",
            " - Nilai '39,000,000,000' ditemukan di baris: [36, 366, 413, 688, 707, 741]\n",
            " - Nilai '8,000,000,000' ditemukan di baris: [37, 46, 72, 104, 130, 132, 150, 158, 188, 202, 524, 766, 929]\n",
            " - Nilai '17,500,000,000' ditemukan di baris: [39, 47, 53, 115, 149, 173, 200, 307, 385, 407, 429, 577, 680, 703, 705, 742]\n",
            " - Nilai '34,000,000,000' ditemukan di baris: [40, 883]\n",
            " - Nilai '7,500,000,000' ditemukan di baris: [41, 85, 121, 171, 217, 409, 805, 859, 884, 938, 962]\n",
            " - Nilai '18,500,000,000' ditemukan di baris: [42, 52, 55, 96, 179, 536, 602, 633, 662]\n",
            " - Nilai '16,000,000,000' ditemukan di baris: [44, 50, 119, 137, 228, 258, 289, 328, 342, 364, 396, 485, 500, 517, 573, 618, 714, 718, 767, 994]\n",
            " - Nilai '13,000,000,000' ditemukan di baris: [45, 60, 213, 215, 227, 279, 310, 470, 477, 481, 518, 624, 910]\n",
            " - Nilai '35,500,000,000' ditemukan di baris: [49, 671, 784]\n",
            " - Nilai '23,000,000,000' ditemukan di baris: [57, 140, 147, 318, 321, 393, 451, 462, 570, 691, 693, 832, 902]\n",
            " - Nilai '15,000,000,000' ditemukan di baris: [59, 80, 152, 164, 168, 187, 199, 241, 246, 255, 309, 323, 329, 341, 348, 350, 398, 401, 419, 460, 475, 490, 497, 501, 542, 556, 616, 637, 667, 683, 702, 727, 739, 740, 783, 817, 819, 855, 877, 878, 908, 940, 950, 977]\n",
            " - Nilai '33,000,000,000' ditemukan di baris: [61, 292, 331, 466, 557, 700, 840]\n",
            " - Nilai '21,500,000,000' ditemukan di baris: [66, 613, 634]\n",
            " - Nilai '55,000,000,000' ditemukan di baris: [69, 111, 114, 125, 148, 221, 236, 423, 904]\n",
            " - Nilai '6,250,000,000' ditemukan di baris: [70, 243]\n",
            " - Nilai '29,000,000,000' ditemukan di baris: [71, 89, 649, 944, 996]\n",
            " - Nilai '18,000,000,000' ditemukan di baris: [74, 153, 182, 186, 229, 266, 471, 496, 552, 627, 669, 675, 690, 921]\n",
            " - Nilai '4,500,000,000' ditemukan di baris: [75, 78, 184, 185, 593, 632, 645, 655, 881, 935, 989, 995]\n",
            " - Nilai '2,800,000,000' ditemukan di baris: [79, 535, 837, 923]\n",
            " - Nilai '7,800,000,000' ditemukan di baris: [81, 167, 244, 956]\n",
            " - Nilai '21,000,000,000' ditemukan di baris: [82, 93, 135, 141, 155, 287, 291, 374, 519, 619, 635, 676, 719, 889, 920, 988]\n",
            " - Nilai '38,000,000,000' ditemukan di baris: [83, 305, 337, 614, 689, 888, 934]\n",
            " - Nilai '36,000,000,000' ditemukan di baris: [87, 446, 568, 631, 670, 748]\n",
            " - Nilai '5,500,000,000' ditemukan di baris: [90, 133, 175, 538, 586, 600, 628, 696, 717, 721, 782, 969]\n",
            " - Nilai '22,000,000,000' ditemukan di baris: [95, 146, 225, 362, 438, 442, 443, 482, 502, 537, 559, 729, 737, 886]\n",
            " - Nilai '16,500,000,000' ditemukan di baris: [97, 457, 723]\n",
            " - Nilai '7,700,000,000' ditemukan di baris: [100, 276, 395, 641, 897]\n",
            " - Nilai '15,700,000,000' ditemukan di baris: [102, 853]\n",
            " - Nilai '17,000,000,000' ditemukan di baris: [103, 166, 237, 250, 269, 284, 408, 420, 424, 425, 433, 452, 479, 516, 525, 529, 540, 547, 569, 575, 601, 656, 666, 764, 824]\n",
            " - Nilai '9,550,000,000' ditemukan di baris: [105, 145, 233, 608, 738]\n",
            " - Nilai '5,900,000,000' ditemukan di baris: [108, 351, 615, 659, 746, 916, 928, 971]\n",
            " - Nilai '6,000,000,000' ditemukan di baris: [109, 232, 256, 290, 375, 397, 406, 527, 936]\n",
            " - Nilai '10,800,000,000' ditemukan di baris: [110, 507]\n",
            " - Nilai '6,900,000,000' ditemukan di baris: [113, 118, 131, 257, 503, 650, 735, 967, 970]\n",
            " - Nilai '3,500,000,000' ditemukan di baris: [116, 773, 775, 991]\n",
            " - Nilai '11,900,000,000' ditemukan di baris: [120, 172, 214, 251]\n",
            " - Nilai '12,500,000,000' ditemukan di baris: [123, 484, 572, 850, 862]\n",
            " - Nilai '12,000,000,000' ditemukan di baris: [126, 156, 355, 379, 427, 523, 528, 639, 701, 709, 838]\n",
            " - Nilai '5,700,000,000' ditemukan di baris: [129, 567]\n",
            " - Nilai '13,500,000,000' ditemukan di baris: [138, 169, 220, 272, 278, 431, 476, 543, 548, 630, 673, 793, 818, 952]\n",
            " - Nilai '15,750,000,000' ditemukan di baris: [139, 207]\n",
            " - Nilai '4,300,000,000' ditemukan di baris: [143, 209, 387, 388]\n",
            " - Nilai '4,600,000,000' ditemukan di baris: [151, 609, 791]\n",
            " - Nilai '18,900,000,000' ditemukan di baris: [159, 189]\n",
            " - Nilai '21,900,000,000' ditemukan di baris: [161, 190, 651]\n",
            " - Nilai '5,600,000,000' ditemukan di baris: [162, 191, 304]\n",
            " - Nilai '4,800,000,000' ditemukan di baris: [165, 544, 875, 905]\n",
            " - Nilai '9,900,000,000' ditemukan di baris: [176, 340, 373]\n",
            " - Nilai '3,600,000,000' ditemukan di baris: [180, 198, 582, 942, 981]\n",
            " - Nilai '3,400,000,000' ditemukan di baris: [181, 194]\n",
            " - Nilai '4,000,000,000' ditemukan di baris: [192, 201, 403, 415, 930]\n",
            " - Nilai '11,500,000,000' ditemukan di baris: [196, 354, 404, 579]\n",
            " - Nilai '30,000,000,000' ditemukan di baris: [204, 230, 306, 347, 488, 644, 646, 682, 827, 865, 901, 957]\n",
            " - Nilai '27,000,000,000' ditemukan di baris: [205, 280, 456, 963]\n",
            " - Nilai '60,000,000,000' ditemukan di baris: [226, 506, 510, 890]\n",
            " - Nilai '32,000,000,000' ditemukan di baris: [234, 825, 828, 919]\n",
            " - Nilai '6,800,000,000' ditemukan di baris: [245, 286, 325, 591, 606, 730, 745, 760, 964]\n",
            " - Nilai '6,750,000,000' ditemukan di baris: [248, 900, 980, 985]\n",
            " - Nilai '7,900,000,000' ditemukan di baris: [263, 357, 434, 447, 560, 654]\n",
            " - Nilai '1,100,000,000' ditemukan di baris: [267, 564, 992]\n",
            " - Nilai '11,200,000,000' ditemukan di baris: [275, 720]\n",
            " - Nilai '27,500,000,000' ditemukan di baris: [283, 405]\n",
            " - Nilai '5,400,000,000' ditemukan di baris: [302, 768]\n",
            " - Nilai '45,000,000,000' ditemukan di baris: [312, 505, 893]\n",
            " - Nilai '5,800,000,000' ditemukan di baris: [315, 448, 465, 574, 595, 611, 706, 761, 891, 968]\n",
            " - Nilai '24,000,000,000' ditemukan di baris: [317, 370, 636]\n",
            " - Nilai '9,000,000,000' ditemukan di baris: [319, 330, 338, 343, 382, 412, 416, 566, 592, 697, 915]\n",
            " - Nilai '1,350,000,000' ditemukan di baris: [320, 772, 801]\n",
            " - Nilai '6,200,000,000' ditemukan di baris: [332, 336, 459]\n",
            " - Nilai '14,500,000,000' ditemukan di baris: [334, 371, 599, 652, 657, 747, 774, 823, 856]\n",
            " - Nilai '50,000,000,000' ditemukan di baris: [356, 848]\n",
            " - Nilai '12,900,000,000' ditemukan di baris: [377, 874]\n",
            " - Nilai '8,250,000,000' ditemukan di baris: [386, 765]\n",
            " - Nilai '3,250,000,000' ditemukan di baris: [390, 896, 975]\n",
            " - Nilai '42,000,000,000' ditemukan di baris: [414, 870, 958]\n",
            " - Nilai '3,800,000,000' ditemukan di baris: [418, 785]\n",
            " - Nilai '7,300,000,000' ditemukan di baris: [421, 879, 926]\n",
            " - Nilai '2,500,000,000' ditemukan di baris: [441, 661]\n",
            " - Nilai '5,100,000,000' ditemukan di baris: [444, 522]\n",
            " - Nilai '43,000,000,000' ditemukan di baris: [480, 629]\n",
            " - Nilai '22,600,000,000' ditemukan di baris: [486, 699]\n",
            " - Nilai '75,000,000,000' ditemukan di baris: [487, 833, 860]\n",
            " - Nilai '8,700,000,000' ditemukan di baris: [492, 642]\n",
            " - Nilai '25,500,000,000' ditemukan di baris: [499, 534]\n",
            " - Nilai '14,400,000,000' ditemukan di baris: [509, 713, 756]\n",
            " - Nilai '1,880,000,000' ditemukan di baris: [521, 808]\n",
            " - Nilai '6,700,000,000' ditemukan di baris: [553, 758]\n",
            " - Nilai '26,000,000,000' ditemukan di baris: [555, 578, 623, 692, 733]\n",
            " - Nilai '5,300,000,000' ditemukan di baris: [583, 653, 687, 809]\n",
            " - Nilai '19,800,000,000' ditemukan di baris: [587, 605]\n",
            " - Nilai '4,400,000,000' ditemukan di baris: [603, 759]\n",
            " - Nilai '14,900,000,000' ditemukan di baris: [617, 799, 854]\n",
            " - Nilai '11,100,000,000' ditemukan di baris: [685, 751]\n",
            " - Nilai '2,200,000,000' ditemukan di baris: [776, 814, 979]\n",
            " - Nilai '1,300,000,000' ditemukan di baris: [778, 796, 810, 931]\n",
            " - Nilai '1,200,000,000' ditemukan di baris: [779, 803, 815, 887, 933]\n",
            " - Nilai '4,970,000,000' ditemukan di baris: [786, 869, 948]\n",
            " - Nilai '700,000,000' ditemukan di baris: [794, 811]\n",
            " - Nilai '65,000,000,000' ditemukan di baris: [843, 987]\n",
            " - Nilai '2,950,000,000' ditemukan di baris: [851, 925]\n",
            " - Nilai '1,700,000,000' ditemukan di baris: [895, 997]\n",
            " - Nilai '1,750,000,000' ditemukan di baris: [899, 984]\n",
            "Total jumlah data yang duplikasi: 733\n"
          ]
        }
      ],
      "source": [
        "# Deteksi Duplikasi Data pada Kolom Harga\n",
        "harga_data = [row[0].strip() for row in data if row[0].strip() != \"\" and row[0].lower() != \"nan\"]\n",
        "\n",
        "# Mencari duplikasi\n",
        "duplikasi = {}\n",
        "for i, value in enumerate(harga_data):\n",
        "    if value in duplikasi:\n",
        "        duplikasi[value].append(i + 1)  # Simpan baris duplikasi\n",
        "    else:\n",
        "        duplikasi[value] = [i + 1]\n",
        "\n",
        "# Filter hanya data yang memiliki duplikasi\n",
        "duplikasi = {key: value for key, value in duplikasi.items() if len(value) > 1}\n",
        "\n",
        "# Hitung total jumlah data yang duplikasi\n",
        "total_duplikasi = sum(len(rows) - 1 for rows in duplikasi.values())\n",
        "\n",
        "# Output hasil\n",
        "if duplikasi:\n",
        "    print(\"Data duplikasi ditemukan pada kolom harga:\")\n",
        "    for value, rows in duplikasi.items():\n",
        "        print(f\" - Nilai '{value}' ditemukan di baris: {rows}\")\n",
        "    print(f\"Total jumlah data yang duplikasi: {total_duplikasi}\")\n",
        "else:\n",
        "    print(\"Tidak ada data duplikasi pada kolom harga.\")"
      ]
    },
    {
      "cell_type": "markdown",
      "metadata": {},
      "source": []
    },
    {
      "cell_type": "markdown",
      "metadata": {},
      "source": [
        "### Proses Deteksi Outlier menggunakan metode IQR"
      ]
    },
    {
      "cell_type": "code",
      "execution_count": 22,
      "metadata": {
        "id": "JkkSjZZWaggc"
      },
      "outputs": [
        {
          "name": "stdout",
          "output_type": "stream",
          "text": [
            "Total Outlier: 65\n",
            "Q1: 6775000000.0, Q3: 20000000000.0, IQR: 13225000000.0\n",
            "batas bawah: -13062500000.0, batas atas: 39837500000.0\n",
            "Outlier ditemukan: [40000000000.0, 40000000000.0, 40000000000.0, 40000000000.0, 40000000000.0, 40000000000.0, 40000000000.0, 40000000000.0, 42000000000.0, 42000000000.0, 42000000000.0, 43000000000.0, 43000000000.0, 45000000000.0, 45000000000.0, 45000000000.0, 47000000000.0, 49000000000.0, 50000000000.0, 50000000000.0, 55000000000.0, 55000000000.0, 55000000000.0, 55000000000.0, 55000000000.0, 55000000000.0, 55000000000.0, 55000000000.0, 55000000000.0, 56000000000.0, 57000000000.0, 60000000000.0, 60000000000.0, 60000000000.0, 60000000000.0, 65000000000.0, 65000000000.0, 68000000000.0, 68000000000.0, 68000000000.0, 68000000000.0, 72000000000.0, 75000000000.0, 75000000000.0, 75000000000.0, 77500000000.0, 80000000000.0, 85000000000.0, 85000000000.0, 85000000000.0, 85000000000.0, 85500000000.0, 90000000000.0, 95000000000.0, 100000000000.0, 110000000000.0, 120000000000.0, 135000000000.0, 165000000000.0, 168000000000.0, 169000000000.0, 175230000000.0, 180000000000.0, 185000000000.0, 250000000000.0]\n"
          ]
        }
      ],
      "source": [
        "# Deteksi Outlier\n",
        "def hitungIQR(data):\n",
        "    data.sort()\n",
        "    n = len(data)\n",
        "    q1 = data[n // 4] if n % 4 == 0 else (data[n // 4] + data[n // 4 - 1]) / 2\n",
        "    q3 = data[3 * n // 4] if (3*n) % 4 == 0 else (data[3 * n // 4] + data[3*n // 4 - 1]) / 2\n",
        "    iqr = q3 - q1\n",
        "    return q1, q3, iqr\n",
        "\n",
        "dataHarga = [float(row[0].replace(',', '')) for row in data if row[0].strip() != '' and row[0].lower() != 'nan']\n",
        "q1, q3, iqr = hitungIQR(dataHarga)\n",
        "\n",
        "lowerBound = q1 - 1.5 * iqr\n",
        "upperBound = q3 + 1.5 * iqr\n",
        "\n",
        "outliers = [value for value in dataHarga if value < lowerBound or value > upperBound]\n",
        "totalOutliers = len(outliers)\n",
        "print(f\"Total Outlier: {totalOutliers}\")\n",
        "\n",
        "print(f\"Q1: {q1}, Q3: {q3}, IQR: {iqr}\")\n",
        "print(f\"batas bawah: {lowerBound}, batas atas: {upperBound}\")\n",
        "if outliers:\n",
        "    print(f\"Outlier ditemukan: {outliers}\")\n",
        "else:\n",
        "    print(\"Tidak ada outlier ditemukan\")"
      ]
    },
    {
      "cell_type": "markdown",
      "metadata": {},
      "source": []
    },
    {
      "cell_type": "markdown",
      "metadata": {},
      "source": [
        "## Cleaning Data"
      ]
    },
    {
      "cell_type": "markdown",
      "metadata": {},
      "source": [
        "### Proses Menangani Missing Value"
      ]
    },
    {
      "cell_type": "code",
      "execution_count": 23,
      "metadata": {},
      "outputs": [
        {
          "name": "stdout",
          "output_type": "stream",
          "text": [
            "Jumlah data sebelum pembersihan: 1001\n",
            "Jumlah data setelah pembersihan: 998\n",
            "Jumlah baris yang dihapus: 3\n"
          ]
        }
      ],
      "source": [
        "cleaned_data = [row for row in data if all(value.strip() != \"\" and value.lower() != \"nan\" and value is not None for value in row)]\n",
        "\n",
        "# Output hasil\n",
        "print(f\"Jumlah data sebelum pembersihan: {len(data)}\")\n",
        "print(f\"Jumlah data setelah pembersihan: {len(cleaned_data)}\")\n",
        "print(f\"Jumlah baris yang dihapus: {len(data) - len(cleaned_data)}\")"
      ]
    },
    {
      "cell_type": "markdown",
      "metadata": {},
      "source": [
        "Validasi Apakah Masih Ada Data yang Missing"
      ]
    },
    {
      "cell_type": "code",
      "execution_count": 24,
      "metadata": {},
      "outputs": [
        {
          "name": "stdout",
          "output_type": "stream",
          "text": [
            "Tidak Ditemukan Missing Value.\n"
          ]
        }
      ],
      "source": [
        "missingValues = []\n",
        "\n",
        "for i, row in enumerate(cleaned_data):\n",
        "  for j, value in enumerate(row):\n",
        "    if value.strip() == '' or value.lower() == \"nan\" or value is None:\n",
        "      missingValues.append((i + 1, header[j]))\n",
        "if missingValues:\n",
        "  print(f\"Missing value Ditemukan pada:\")\n",
        "  for row, col in missingValues:\n",
        "    print(f\" - Baris {row}, Kolom {col}\")\n",
        "  print(f\"Total Data yang Hilang: {len(missingValues)}\")\n",
        "else:\n",
        "  print(\"Tidak Ditemukan Missing Value.\")"
      ]
    },
    {
      "cell_type": "markdown",
      "metadata": {},
      "source": [
        "### Proses Menangani Duplikasi Data"
      ]
    },
    {
      "cell_type": "code",
      "execution_count": 25,
      "metadata": {},
      "outputs": [
        {
          "name": "stdout",
          "output_type": "stream",
          "text": [
            "Jumlah data sebelum penghapusan duplikasi: 998\n",
            "Jumlah data setelah penghapusan duplikasi: 929\n",
            "Jumlah baris yang dihapus: 69\n"
          ]
        }
      ],
      "source": [
        "dataUnik = []\n",
        "seen = set()\n",
        "\n",
        "for row in cleaned_data:\n",
        "    rowTuple = tuple(row)\n",
        "    if rowTuple not in seen:\n",
        "        seen.add(rowTuple)\n",
        "        dataUnik.append(row)\n",
        "print(f\"Jumlah data sebelum penghapusan duplikasi: {len(cleaned_data)}\")\n",
        "print(f\"Jumlah data setelah penghapusan duplikasi: {len(dataUnik)}\")\n",
        "print(f\"Jumlah baris yang dihapus: {len(cleaned_data) - len(dataUnik)}\")"
      ]
    },
    {
      "cell_type": "markdown",
      "metadata": {},
      "source": [
        "Validasi Apakah Masih Ada Data yang Terduplikasi"
      ]
    },
    {
      "cell_type": "code",
      "execution_count": 53,
      "metadata": {},
      "outputs": [
        {
          "name": "stdout",
          "output_type": "stream",
          "text": [
            "Tidak ada data identik yang terduplikasi.\n"
          ]
        }
      ],
      "source": [
        "duplikasi_identik = {}\n",
        "\n",
        "for i, row in enumerate(dataUnik):\n",
        "\n",
        "    key = tuple(row)  \n",
        "    if key in duplikasi_identik:\n",
        "        duplikasi_identik[key].append(i + 1)  \n",
        "    else:\n",
        "        duplikasi_identik[key] = [i + 1]\n",
        "\n",
        "\n",
        "duplikasi_identik = {key: value for key, value in duplikasi_identik.items() if len(value) > 1}\n",
        "totalDuplikasiIdentik = sum(len(rows) for rows in duplikasi_identik.values())\n",
        "\n",
        "\n",
        "if duplikasi_identik:\n",
        "    print(\"Data identik yang terduplikasi ditemukan:\")\n",
        "    for key, rows in duplikasi_identik.items():\n",
        "        print(f\" - Data: {key} ditemukan di baris: {rows}\")\n",
        "    print(f\"Total data identik yang terduplikasi: {totalDuplikasiIdentik}\")\n",
        "else:\n",
        "    print(\"Tidak ada data identik yang terduplikasi.\")"
      ]
    },
    {
      "cell_type": "markdown",
      "metadata": {},
      "source": [
        "### Proses Menangani Outlier"
      ]
    },
    {
      "cell_type": "code",
      "execution_count": 57,
      "metadata": {},
      "outputs": [
        {
          "name": "stdout",
          "output_type": "stream",
          "text": [
            "Jumlah rumah di bawah Harga Reguler: 467\n",
            "Jumlah rumah reguler: 402\n",
            "Jumlah rumah mewah: 60\n"
          ]
        }
      ],
      "source": [
        "dataHarga = [float(row[0].replace(',', '')) for row in dataUnik if row[0].strip() != '' and row[0].lower() != 'nan']\n",
        "\n",
        "# Hitung IQR\n",
        "q1, q3, iqr = hitungIQR(dataHarga)\n",
        "lowerBound = q1 - 1.5 * iqr\n",
        "upperBound = q3 + 1.5 * iqr\n",
        "\n",
        "segmentasiData = []\n",
        "for row in dataUnik:\n",
        "    harga = float(row[0].replace(',', ''))\n",
        "    if harga > lowerBound and harga < iqr:\n",
        "        row.append(\"Harga Rumah di Bawah Harga Reguler\")\n",
        "    elif harga > iqr and harga < upperBound:\n",
        "        row.append(\"Rumah Reguler\")\n",
        "    elif harga > upperBound:\n",
        "        row.append(\"Rumah Mewah\")\n",
        "    segmentasiData.append(row)\n",
        "print(f\"Jumlah rumah di bawah Harga Reguler: {sum(1 for row in segmentasiData if row[-1] == 'Harga Rumah di Bawah Harga Reguler')}\")\n",
        "print(f\"Jumlah rumah reguler: {sum(1 for row in segmentasiData if row[-1] == 'Rumah Reguler')}\")\n",
        "print(f\"Jumlah rumah mewah: {sum(1 for row in segmentasiData if row[-1] == 'Rumah Mewah')}\")\n"
      ]
    },
    {
      "cell_type": "markdown",
      "metadata": {},
      "source": [
        "## Visualisasi Data (Histogram dan Boxplot)"
      ]
    },
    {
      "cell_type": "code",
      "execution_count": 48,
      "metadata": {},
      "outputs": [
        {
          "data": {
            "image/png": "[encoded data removed]",
            "text/plain": [
              "<Figure size 800x600 with 1 Axes>"
            ]
          },
          "metadata": {},
          "output_type": "display_data"
        }
      ],
      "source": [
        "# visualisasi data( boxplot)\n",
        "log_data_harga = np.log10(dataHarga)\n",
        "plt.figure(figsize=(8, 6))\n",
        "plt.boxplot(log_data_harga, vert=False, patch_artist=True, boxprops=dict(facecolor='lightblue', color='blue'))\n",
        "plt.title(\"Boxplot Harga (Log Transformasi)\")\n",
        "plt.xlabel(\"log10(Harga)\")\n",
        "plt.grid(axis='x', linestyle='--', alpha=0.7)\n",
        "\n",
        "# Tampilkan plot\n",
        "plt.show()"
      ]
    },
    {
      "cell_type": "markdown",
      "metadata": {},
      "source": []
    },
    {
      "cell_type": "code",
      "execution_count": 49,
      "metadata": {},
      "outputs": [
        {
          "data": {
            "image/png": "[encoded data removed]",
            "text/plain": [
              "<Figure size 800x600 with 1 Axes>"
            ]
          },
          "metadata": {},
          "output_type": "display_data"
        }
      ],
      "source": [
        "log_data_harga = np.log10(dataHarga)\n",
        "\n",
        "# Membuat histogram\n",
        "plt.figure(figsize=(8, 6))\n",
        "plt.hist(log_data_harga, bins=20, color='skyblue', edgecolor='black', alpha=0.7)\n",
        "plt.title(\"Distribusi Data Kolom Harga (Log Transformasi)\")\n",
        "plt.xlabel(\"Log10(Harga)\")\n",
        "plt.ylabel(\"Frekuensi\")\n",
        "plt.grid(axis='y', linestyle='--', alpha=0.7)\n",
        "\n",
        "# Tampilkan plot\n",
        "plt.show()"
      ]
    },
    {
      "cell_type": "markdown",
      "metadata": {},
      "source": []
    },
    {
      "cell_type": "markdown",
      "metadata": {
        "id": "jo0_W3YEaVyz"
      },
      "source": [
        "# Statistika Deskriptif"
      ]
    },
    {
      "cell_type": "code",
      "execution_count": 45,
      "metadata": {
        "colab": {
          "base_uri": "https://localhost:8080/"
        },
        "id": "zT3qZrTEIdeL",
        "outputId": "9b60975e-df2f-4e47-d02a-12b84c543086"
      },
      "outputs": [
        {
          "name": "stdout",
          "output_type": "stream",
          "text": [
            "Mean: 17464194000.0\n",
            "Median: 13450000000.0\n",
            "Modus dari data adalah: [15000000000.0]\n",
            "Modus: None\n",
            "harga minimum: 430000000.0\n",
            "harga maksimum: 250000000000.0\n",
            "Rentang: 249570000000.0\n",
            "Varians: 4.323411859963641e+20\n",
            "Standar Deviasi: 20792815730.351772\n"
          ]
        }
      ],
      "source": [
        "def mean(data):\n",
        "  return sum(data) / len(data)\n",
        "\n",
        "def median(data):\n",
        "  data.sort()\n",
        "  if len(data) % 2 == 1:\n",
        "    return data[len(data) // 2]\n",
        "  else:\n",
        "    return (data[len(data) // 2 - 1] + data[len(data) // 2]) / 2\n",
        "\n",
        "def modus(data):\n",
        "  frekuensi = {}\n",
        "  for value in data:\n",
        "    if value in frekuensi:\n",
        "      frekuensi[value] += 1\n",
        "    else:\n",
        "      frekuensi[value] = 1\n",
        "  maxFrekuensi = max(frekuensi.values())\n",
        "  modus = [key for key, value in frekuensi.items() if value == maxFrekuensi]\n",
        "  if len(modus) == 1:\n",
        "    print(f\"Modus dari data adalah: {modus}\")\n",
        "  elif len(modus) > 1:\n",
        "    print(\"multimode dari data adalah: \", modus)\n",
        "  else:\n",
        "    print(\"tidak ada modus\")\n",
        "\n",
        "dataHarga = [float(row[0].replace(',', '')) for row in cleanedData if row is not None]\n",
        "print(f\"Mean: {mean(dataHarga)}\")\n",
        "print(f\"Median: {median(dataHarga)}\")\n",
        "print(f\"Modus: {modus(dataHarga)}\")\n",
        "\n",
        "hargaMin = min(dataHarga)\n",
        "print(f\"harga minimum: {hargaMin}\")\n",
        "hargaMax = max(dataHarga)\n",
        "print(f\"harga maksimum: {hargaMax}\")\n",
        "\n",
        "Range = hargaMax - hargaMin\n",
        "print(f\"Rentang: {Range}\")\n",
        "\n",
        "varians = sum((x - mean(dataHarga)) ** 2 for x in dataHarga) / len(dataHarga)\n",
        "print(f\"Varians: {varians}\")\n",
        "\n",
        "standarDeviasi = math.sqrt(varians)\n",
        "print(f\"Standar Deviasi: {standarDeviasi}\")"
      ]
    },
    {
      "cell_type": "code",
      "execution_count": null,
      "metadata": {
        "id": "cUVcpKXHOHEy"
      },
      "outputs": [],
      "source": []
    }
  ],
  "metadata": {
    "colab": {
      "provenance": []
    },
    "kernelspec": {
      "display_name": "Python 3",
      "name": "python3"
    },
    "language_info": {
      "codemirror_mode": {
        "name": "ipython",
        "version": 3
      },
      "file_extension": ".py",
      "mimetype": "text/x-python",
      "name": "python",
      "nbconvert_exporter": "python",
      "pygments_lexer": "ipython3",
      "version": "3.11.1"
    }
  },
  "nbformat": 4,
  "nbformat_minor": 0
}
