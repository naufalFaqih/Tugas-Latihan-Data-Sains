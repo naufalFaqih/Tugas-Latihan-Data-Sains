{
  "cells": [
    {
      "cell_type": "code",
      "execution_count": 1,
      "metadata": {
        "id": "GwNEXPGiYnIs"
      },
      "outputs": [],
      "source": [
        "import csv\n",
        "import math\n",
        "import matplotlib.pyplot as plt"
      ]
    },
    {
      "cell_type": "markdown",
      "metadata": {
        "id": "wBSay_6-GNai"
      },
      "source": [
        "# Load Dataset dalam Bentuk CSV & Lakukan Validasi Kualitas\n"
      ]
    },
    {
      "cell_type": "code",
      "execution_count": 26,
      "metadata": {
        "colab": {
          "base_uri": "https://localhost:8080/"
        },
        "id": "QjP9s1vZ_ExI",
        "outputId": "d5c09e96-9d48-4600-9fe9-f4d6425ad6e1"
      },
      "outputs": [
        {
          "data": {
            "text/plain": [
              "(['\\ufeffHARGA', 'LT', 'LB', 'JKT', 'JKM', 'GRS', 'KOTA'],\n",
              " [['28,000,000,000', '1100', '700', '5', '6', 'ADA', 'JAKSEL'],\n",
              "  ['19,000,000,000', '824', '800', '4', '4', 'ADA', 'JAKSEL'],\n",
              "  ['4,700,000,000', '500', '400', '4', '3', 'ADA', 'JAKSEL'],\n",
              "  ['4,900,000,000', '251', '300', '5', '4', 'ADA', 'JAKSEL'],\n",
              "  ['28,000,000,000', '1340', '575', '4', '5', 'ADA', 'JAKSEL']])"
            ]
          },
          "execution_count": 26,
          "metadata": {},
          "output_type": "execute_result"
        }
      ],
      "source": [
        "namaFile = 'DATASET\\HARGA RUMAH JAKSEL.csv'\n",
        "\n",
        "\n",
        "with open(namaFile, newline = '', encoding = 'utf-8') as file:\n",
        "  reader = csv.reader(file)\n",
        "  header = next(reader)\n",
        "  data = [row for row in reader]\n",
        "\n",
        "header, data[:5]"
      ]
    },
    {
      "cell_type": "markdown",
      "metadata": {
        "id": "esJPij0eGhU0"
      },
      "source": [
        "# Proses Deteksi Missing Values"
      ]
    },
    {
      "cell_type": "code",
      "execution_count": 27,
      "metadata": {
        "colab": {
          "base_uri": "https://localhost:8080/"
        },
        "id": "LHQLxp4cDImG",
        "outputId": "30beb7ff-887e-4d5b-cc31-682457ea47a2"
      },
      "outputs": [
        {
          "name": "stdout",
          "output_type": "stream",
          "text": [
            "Tidak Ditemukan Missing Value.\n"
          ]
        }
      ],
      "source": [
        "missingValues = []\n",
        "\n",
        "for i, row in enumerate(data):\n",
        "  for j, value in enumerate(row):\n",
        "    if value.strip() == '' or value.lower() == \"nan\" or value is None:\n",
        "      missingValues.append((i + 1, j + 1))\n",
        "if missingValues:\n",
        "  print(f\"Missing value Ditemukan di: {missingValues}\")\n",
        "  for row, col in missingValues:\n",
        "    print(f\"Baris {row}, Kolom {col}: {data[row - 1][col - 1]}\")\n",
        "else:\n",
        "  print(\"Tidak Ditemukan Missing Value.\")"
      ]
    },
    {
      "cell_type": "markdown",
      "metadata": {},
      "source": [
        "# Proses Deteksi Outlier & Duplikasi"
      ]
    },
    {
      "cell_type": "code",
      "execution_count": null,
      "metadata": {},
      "outputs": [
        {
          "name": "stdout",
          "output_type": "stream",
          "text": [
            "Data duplikasi ditemukan pada kolom harga:\n",
            " - Nilai '28000000000.0' ditemukan di baris: [1, 5, 252, 413, 650, 746, 855, 875, 912, 927, 949, 975]\n",
            " - Nilai '19000000000.0' ditemukan di baris: [2, 67, 68, 215, 225, 238, 241, 250, 262, 284, 494, 497, 515, 523, 536, 549, 583, 584, 613, 701, 774]\n",
            " - Nilai '4700000000.0' ditemukan di baris: [3, 682, 758]\n",
            " - Nilai '4900000000.0' ditemukan di baris: [4, 453, 910]\n",
            " - Nilai '10000000000.0' ditemukan di baris: [6, 79, 245, 280, 288, 316, 348, 383, 429, 566, 592, 671, 680, 728]\n",
            " - Nilai '7600000000.0' ditemukan di baris: [7, 109]\n",
            " - Nilai '5250000000.0' ditemukan di baris: [8, 433, 675]\n",
            " - Nilai '10700000000.0' ditemukan di baris: [11, 137, 677]\n",
            " - Nilai '4200000000.0' ditemukan di baris: [12, 104, 471, 795, 809, 883]\n",
            " - Nilai '8500000000.0' ditemukan di baris: [13, 76, 102, 213, 274, 297, 314, 375, 405, 425, 481, 552, 561, 624, 757, 864, 921, 925]\n",
            " - Nilai '7000000000.0' ditemukan di baris: [14, 285, 342, 361, 362, 414, 475, 601, 615, 629, 879, 942]\n",
            " - Nilai '20000000000.0' ditemukan di baris: [15, 41, 91, 147, 206, 209, 219, 267, 317, 330, 352, 363, 366, 403, 492, 507, 661, 663, 666, 689, 735, 976]\n",
            " - Nilai '9500000000.0' ditemukan di baris: [16, 65, 214, 349, 387, 457, 464, 501, 514, 535, 553, 623, 825, 871]\n",
            " - Nilai '11000000000.0' ditemukan di baris: [18, 127, 364, 372, 452, 587, 719, 766, 842, 869, 874, 930, 956]\n",
            " - Nilai '5800000000.0' ditemukan di baris: [19, 318, 451, 468, 577, 598, 614, 709, 764, 894, 971]\n",
            " - Nilai '35000000000.0' ditemukan di baris: [20, 439, 461, 498, 834]\n",
            " - Nilai '14000000000.0' ditemukan di baris: [21, 38, 71, 115, 277, 299, 306, 325, 371, 379, 548, 579, 607, 610, 625, 755, 772, 793]\n",
            " - Nilai '5000000000.0' ditemukan di baris: [22, 46, 166, 268, 301, 476, 643, 668, 753, 906]\n",
            " - Nilai '40000000000.0' ditemukan di baris: [23, 125, 336, 516, 554, 591, 718, 848]\n",
            " - Nilai '5200000000.0' ditemukan di baris: [25, 70, 646, 734, 861]\n",
            " - Nilai '25000000000.0' ditemukan di baris: [26, 59, 89, 198, 263, 291, 302, 303, 338, 347, 395, 402, 420, 440, 496, 687, 773, 810, 940, 981]\n",
            " - Nilai '5680000000.0' ditemukan di baris: [27, 544]\n",
            " - Nilai '10500000000.0' ditemukan di baris: [28, 51, 222, 329, 370, 431, 435, 533, 542, 599, 727, 729, 790, 915, 950, 968]\n",
            " - Nilai '7050000000.0' ditemukan di baris: [29, 823]\n",
            " - Nilai '6500000000.0' ditemukan di baris: [31, 57, 130, 139, 257, 271, 273, 327, 394, 443, 458, 593, 667, 681, 711, 725, 916, 920, 946]\n",
            " - Nilai '68000000000.0' ditemukan di baris: [32, 442, 837, 952]\n",
            " - Nilai '3000000000.0' ditemukan di baris: [33, 845]\n",
            " - Nilai '85000000000.0' ditemukan di baris: [34, 760, 844, 989]\n",
            " - Nilai '19500000000.0' ditemukan di baris: [35, 467, 518, 565, 752]\n",
            " - Nilai '20900000000.0' ditemukan di baris: [36, 319]\n",
            " - Nilai '15500000000.0' ditemukan di baris: [37, 120, 177, 264, 600, 737, 780, 895, 914]\n",
            " - Nilai '39000000000.0' ditemukan di baris: [39, 369, 416, 691, 710, 744]\n",
            " - Nilai '8000000000.0' ditemukan di baris: [40, 49, 75, 107, 133, 135, 153, 161, 191, 205, 527, 769, 932]\n",
            " - Nilai '17500000000.0' ditemukan di baris: [42, 50, 56, 118, 152, 176, 203, 310, 388, 410, 432, 580, 683, 706, 708, 745]\n",
            " - Nilai '34000000000.0' ditemukan di baris: [43, 886]\n",
            " - Nilai '7500000000.0' ditemukan di baris: [44, 88, 124, 174, 220, 412, 808, 862, 887, 941, 965]\n",
            " - Nilai '18500000000.0' ditemukan di baris: [45, 55, 58, 99, 182, 539, 605, 636, 665]\n",
            " - Nilai '16000000000.0' ditemukan di baris: [47, 53, 122, 140, 231, 261, 292, 331, 345, 367, 399, 488, 503, 520, 576, 621, 717, 721, 770, 997]\n",
            " - Nilai '13000000000.0' ditemukan di baris: [48, 63, 216, 218, 230, 282, 313, 473, 480, 484, 521, 627, 913]\n",
            " - Nilai '35500000000.0' ditemukan di baris: [52, 674, 787]\n",
            " - Nilai '23000000000.0' ditemukan di baris: [60, 143, 150, 321, 324, 396, 454, 465, 573, 694, 696, 835, 905]\n",
            " - Nilai '15000000000.0' ditemukan di baris: [62, 83, 155, 167, 171, 190, 202, 244, 249, 258, 312, 326, 332, 344, 351, 353, 401, 404, 422, 463, 478, 493, 500, 504, 545, 559, 619, 640, 670, 686, 705, 730, 742, 743, 786, 820, 822, 858, 880, 881, 911, 943, 953, 980]\n",
            " - Nilai '33000000000.0' ditemukan di baris: [64, 295, 334, 469, 560, 703, 843]\n",
            " - Nilai '21500000000.0' ditemukan di baris: [69, 616, 637]\n",
            " - Nilai '55000000000.0' ditemukan di baris: [72, 114, 117, 128, 151, 224, 239, 426, 907]\n",
            " - Nilai '6250000000.0' ditemukan di baris: [73, 246]\n",
            " - Nilai '29000000000.0' ditemukan di baris: [74, 92, 652, 947, 999]\n",
            " - Nilai '18000000000.0' ditemukan di baris: [77, 156, 185, 189, 232, 269, 474, 499, 555, 630, 672, 678, 693, 924]\n",
            " - Nilai '4500000000.0' ditemukan di baris: [78, 81, 187, 188, 596, 635, 648, 658, 884, 938, 992, 998]\n",
            " - Nilai '2800000000.0' ditemukan di baris: [82, 538, 840, 926]\n",
            " - Nilai '7800000000.0' ditemukan di baris: [84, 170, 247, 959]\n",
            " - Nilai '21000000000.0' ditemukan di baris: [85, 96, 138, 144, 158, 290, 294, 377, 522, 622, 638, 679, 722, 892, 923, 991]\n",
            " - Nilai '38000000000.0' ditemukan di baris: [86, 308, 340, 617, 692, 891, 937]\n",
            " - Nilai '36000000000.0' ditemukan di baris: [90, 449, 571, 634, 673, 751]\n",
            " - Nilai '5500000000.0' ditemukan di baris: [93, 136, 178, 541, 589, 603, 631, 699, 720, 724, 785, 972]\n",
            " - Nilai '22000000000.0' ditemukan di baris: [98, 149, 228, 365, 441, 445, 446, 485, 505, 540, 562, 732, 740, 889]\n",
            " - Nilai '16500000000.0' ditemukan di baris: [100, 460, 726]\n",
            " - Nilai '7700000000.0' ditemukan di baris: [103, 279, 398, 644, 900]\n",
            " - Nilai '15700000000.0' ditemukan di baris: [105, 856]\n",
            " - Nilai '17000000000.0' ditemukan di baris: [106, 169, 240, 253, 272, 287, 411, 423, 427, 428, 436, 455, 482, 519, 528, 532, 543, 550, 572, 578, 604, 659, 669, 767, 827]\n",
            " - Nilai '9550000000.0' ditemukan di baris: [108, 148, 236, 611, 741]\n",
            " - Nilai '5900000000.0' ditemukan di baris: [111, 354, 618, 662, 749, 919, 931, 974]\n",
            " - Nilai '6000000000.0' ditemukan di baris: [112, 235, 259, 293, 378, 400, 409, 530, 939]\n",
            " - Nilai '10800000000.0' ditemukan di baris: [113, 510]\n",
            " - Nilai '6900000000.0' ditemukan di baris: [116, 121, 134, 260, 506, 653, 738, 970, 973]\n",
            " - Nilai '3500000000.0' ditemukan di baris: [119, 776, 778, 994]\n",
            " - Nilai '11900000000.0' ditemukan di baris: [123, 175, 217, 254]\n",
            " - Nilai '12500000000.0' ditemukan di baris: [126, 487, 575, 853, 865]\n",
            " - Nilai '12000000000.0' ditemukan di baris: [129, 159, 358, 382, 430, 526, 531, 642, 704, 712, 841]\n",
            " - Nilai '5700000000.0' ditemukan di baris: [132, 570]\n",
            " - Nilai '13500000000.0' ditemukan di baris: [141, 172, 223, 275, 281, 434, 479, 546, 551, 633, 676, 796, 821, 955]\n",
            " - Nilai '15750000000.0' ditemukan di baris: [142, 210]\n",
            " - Nilai '4300000000.0' ditemukan di baris: [146, 212, 390, 391]\n",
            " - Nilai '4600000000.0' ditemukan di baris: [154, 612, 794]\n",
            " - Nilai '18900000000.0' ditemukan di baris: [162, 192]\n",
            " - Nilai '21900000000.0' ditemukan di baris: [164, 193, 654]\n",
            " - Nilai '5600000000.0' ditemukan di baris: [165, 194, 307]\n",
            " - Nilai '4800000000.0' ditemukan di baris: [168, 547, 878, 908]\n",
            " - Nilai '9900000000.0' ditemukan di baris: [179, 343, 376]\n",
            " - Nilai '3600000000.0' ditemukan di baris: [183, 201, 585, 945, 984]\n",
            " - Nilai '3400000000.0' ditemukan di baris: [184, 197]\n",
            " - Nilai '4000000000.0' ditemukan di baris: [195, 204, 406, 418, 933]\n",
            " - Nilai '11500000000.0' ditemukan di baris: [199, 357, 407, 582]\n",
            " - Nilai '30000000000.0' ditemukan di baris: [207, 233, 309, 350, 491, 647, 649, 685, 830, 868, 904, 960]\n",
            " - Nilai '27000000000.0' ditemukan di baris: [208, 283, 459, 966]\n",
            " - Nilai '60000000000.0' ditemukan di baris: [229, 509, 513, 893]\n",
            " - Nilai '32000000000.0' ditemukan di baris: [237, 828, 831, 922]\n",
            " - Nilai '6800000000.0' ditemukan di baris: [248, 289, 328, 594, 609, 733, 748, 763, 967]\n",
            " - Nilai '6750000000.0' ditemukan di baris: [251, 903, 983, 988]\n",
            " - Nilai '7900000000.0' ditemukan di baris: [266, 360, 437, 450, 563, 657]\n",
            " - Nilai '1100000000.0' ditemukan di baris: [270, 567, 995]\n",
            " - Nilai '11200000000.0' ditemukan di baris: [278, 723]\n",
            " - Nilai '27500000000.0' ditemukan di baris: [286, 408]\n",
            " - Nilai '5400000000.0' ditemukan di baris: [305, 771]\n",
            " - Nilai '45000000000.0' ditemukan di baris: [315, 508, 896]\n",
            " - Nilai '24000000000.0' ditemukan di baris: [320, 373, 639]\n",
            " - Nilai '9000000000.0' ditemukan di baris: [322, 333, 341, 346, 385, 415, 419, 569, 595, 700, 918]\n",
            " - Nilai '1350000000.0' ditemukan di baris: [323, 775, 804]\n",
            " - Nilai '6200000000.0' ditemukan di baris: [335, 339, 462]\n",
            " - Nilai '14500000000.0' ditemukan di baris: [337, 374, 602, 655, 660, 750, 777, 826, 859]\n",
            " - Nilai '50000000000.0' ditemukan di baris: [359, 851]\n",
            " - Nilai '12900000000.0' ditemukan di baris: [380, 877]\n",
            " - Nilai '8250000000.0' ditemukan di baris: [389, 768]\n",
            " - Nilai '3250000000.0' ditemukan di baris: [393, 899, 978]\n",
            " - Nilai '42000000000.0' ditemukan di baris: [417, 873, 961]\n",
            " - Nilai '3800000000.0' ditemukan di baris: [421, 788]\n",
            " - Nilai '7300000000.0' ditemukan di baris: [424, 882, 929]\n",
            " - Nilai '2500000000.0' ditemukan di baris: [444, 664]\n",
            " - Nilai '5100000000.0' ditemukan di baris: [447, 525]\n",
            " - Nilai '43000000000.0' ditemukan di baris: [483, 632]\n",
            " - Nilai '22600000000.0' ditemukan di baris: [489, 702]\n",
            " - Nilai '75000000000.0' ditemukan di baris: [490, 836, 863]\n",
            " - Nilai '8700000000.0' ditemukan di baris: [495, 645]\n",
            " - Nilai '25500000000.0' ditemukan di baris: [502, 537]\n",
            " - Nilai '14400000000.0' ditemukan di baris: [512, 716, 759]\n",
            " - Nilai '1880000000.0' ditemukan di baris: [524, 811]\n",
            " - Nilai '6700000000.0' ditemukan di baris: [556, 761]\n",
            " - Nilai '26000000000.0' ditemukan di baris: [558, 581, 626, 695, 736]\n",
            " - Nilai '5300000000.0' ditemukan di baris: [586, 656, 690, 812]\n",
            " - Nilai '19800000000.0' ditemukan di baris: [590, 608]\n",
            " - Nilai '4400000000.0' ditemukan di baris: [606, 762]\n",
            " - Nilai '14900000000.0' ditemukan di baris: [620, 802, 857]\n",
            " - Nilai '11100000000.0' ditemukan di baris: [688, 754]\n",
            " - Nilai '2200000000.0' ditemukan di baris: [779, 817, 982]\n",
            " - Nilai '1300000000.0' ditemukan di baris: [781, 799, 813, 934]\n",
            " - Nilai '1200000000.0' ditemukan di baris: [782, 806, 818, 890, 936]\n",
            " - Nilai '4970000000.0' ditemukan di baris: [789, 872, 951]\n",
            " - Nilai '700000000.0' ditemukan di baris: [797, 814]\n",
            " - Nilai '65000000000.0' ditemukan di baris: [846, 990]\n",
            " - Nilai '2950000000.0' ditemukan di baris: [854, 928]\n",
            " - Nilai '1700000000.0' ditemukan di baris: [898, 1000]\n",
            " - Nilai '1750000000.0' ditemukan di baris: [902, 987]\n",
            "Total data duplikasi: 735\n"
          ]
        }
      ],
      "source": [
        "# Deteksi Data Duplikasi\n",
        "dataHarga = [float(row[0].replace(',', '')) for row in data if row[0].strip() != '' and row[0].lower() != 'nan']\n",
        "\n",
        "duplikasi = {}\n",
        "for i, value in enumerate(dataHarga):\n",
        "    if value in duplikasi:\n",
        "        duplikasi[value].append(i+1)\n",
        "    else:\n",
        "        duplikasi[value] = [i+1]\n",
        "duplikasi = {key: value for key, value in duplikasi.items() if len(value) > 1}\n",
        "totalDuplikasi = sum(len(rows) - 1 for rows in duplikasi.values())\n",
        "\n",
        "if duplikasi:\n",
        "    print(\"Data duplikasi ditemukan pada kolom harga:\")\n",
        "    for value, rows in duplikasi.items():\n",
        "        print(f\" - Nilai '{value}' ditemukan di baris: {rows}\")\n",
        "    print(f\"Total data duplikasi: {totalDuplikasi}\")\n",
        "else:\n",
        "    print(\"Tidak ada data duplikasi pada kolom harga.\")"
      ]
    },
    {
      "cell_type": "code",
      "execution_count": 25,
      "metadata": {
        "id": "JkkSjZZWaggc"
      },
      "outputs": [
        {
          "name": "stdout",
          "output_type": "stream",
          "text": [
            "Q1: 6750000000.0, Q3: 20000000000.0, IQR: 13250000000.0\n",
            "batas bawah: -13125000000.0, batas atas: 39875000000.0\n",
            "Outlier ditemukan: [40000000000.0, 40000000000.0, 40000000000.0, 40000000000.0, 40000000000.0, 40000000000.0, 40000000000.0, 40000000000.0, 42000000000.0, 42000000000.0, 42000000000.0, 43000000000.0, 43000000000.0, 45000000000.0, 45000000000.0, 45000000000.0, 47000000000.0, 49000000000.0, 50000000000.0, 50000000000.0, 55000000000.0, 55000000000.0, 55000000000.0, 55000000000.0, 55000000000.0, 55000000000.0, 55000000000.0, 55000000000.0, 55000000000.0, 56000000000.0, 57000000000.0, 60000000000.0, 60000000000.0, 60000000000.0, 60000000000.0, 65000000000.0, 65000000000.0, 68000000000.0, 68000000000.0, 68000000000.0, 68000000000.0, 72000000000.0, 75000000000.0, 75000000000.0, 75000000000.0, 77500000000.0, 80000000000.0, 85000000000.0, 85000000000.0, 85000000000.0, 85000000000.0, 85500000000.0, 90000000000.0, 95000000000.0, 100000000000.0, 110000000000.0, 120000000000.0, 135000000000.0, 165000000000.0, 168000000000.0, 169000000000.0, 175230000000.0, 180000000000.0, 185000000000.0, 250000000000.0]\n"
          ]
        }
      ],
      "source": [
        "# Deteksi Outlier\n",
        "def hitungIQR(data):\n",
        "    data.sort()\n",
        "    n = len(data)\n",
        "    q1 = data[n // 4] if n % 4 == 0 else (data[n // 4] + data[n // 4 - 1]) / 2\n",
        "    q3 = data[3 * n // 4] if (3*n) % 4 == 0 else (data[3 * n // 4] + data[3*n // 4 - 1]) / 2\n",
        "    iqr = q3 - q1\n",
        "    return q1, q3, iqr\n",
        "\n",
        "dataHarga = [float(row[0].replace(',', '')) for row in data if row[0].strip() != '' and row[0].lower() != 'nan']\n",
        "q1, q3, iqr = hitungIQR(dataHarga)\n",
        "\n",
        "lowerBound = q1 - 1.5 * iqr\n",
        "upperBound = q3 + 1.5 * iqr\n",
        "\n",
        "outliers = [value for value in dataHarga if value < lowerBound or value > upperBound]\n",
        "\n",
        "print(f\"Q1: {q1}, Q3: {q3}, IQR: {iqr}\")\n",
        "print(f\"batas bawah: {lowerBound}, batas atas: {upperBound}\")\n",
        "if outliers:\n",
        "    print(f\"Outlier ditemukan: {outliers}\")\n",
        "else:\n",
        "    print(\"Tidak ada outlier ditemukan\")"
      ]
    },
    {
      "cell_type": "markdown",
      "metadata": {
        "id": "jo0_W3YEaVyz"
      },
      "source": [
        "# Statistika Deskriptif"
      ]
    },
    {
      "cell_type": "code",
      "execution_count": null,
      "metadata": {
        "colab": {
          "base_uri": "https://localhost:8080/"
        },
        "id": "zT3qZrTEIdeL",
        "outputId": "9b60975e-df2f-4e47-d02a-12b84c543086"
      },
      "outputs": [
        {
          "name": "stdout",
          "output_type": "stream",
          "text": [
            "Mean: 17474719280.71928\n",
            "Median: 13500000000.0\n",
            "Modus dari data adalah: [15000000000.0]\n",
            "Modus: None\n"
          ]
        }
      ],
      "source": [
        "def mean(data):\n",
        "  return sum(data) / len(data)\n",
        "\n",
        "def median(data):\n",
        "  data.sort()\n",
        "  if len(data) % 2 == 1:\n",
        "    return data[len(data) // 2]\n",
        "  else:\n",
        "    return (data[len(data) // 2 - 1] + data[len(data) // 2]) / 2\n",
        "\n",
        "def modus(data):\n",
        "  frekuensi = {}\n",
        "  for value in data:\n",
        "    if value in frekuensi:\n",
        "      frekuensi[value] += 1\n",
        "    else:\n",
        "      frekuensi[value] = 1\n",
        "  maxFrekuensi = max(frekuensi.values())\n",
        "  modus = [key for key, value in frekuensi.items() if value == maxFrekuensi]\n",
        "  if len(modus) == 1:\n",
        "    print(f\"Modus dari data adalah: {modus}\")\n",
        "  elif len(modus) > 1:\n",
        "    print(\"multimode dari data adalah: \", modus)\n",
        "  else:\n",
        "    print(\"tidak ada modus\")\n",
        "\n",
        "dataHarga = [float(row[0].replace(',', '')) for row in cleanedData if row is not None]\n",
        "print(f\"Mean: {mean(dataHarga)}\")\n",
        "print(f\"Median: {median(dataHarga)}\")\n",
        "print(f\"Modus: {modus(dataHarga)}\")"
      ]
    },
    {
      "cell_type": "code",
      "execution_count": null,
      "metadata": {
        "id": "cUVcpKXHOHEy"
      },
      "outputs": [],
      "source": []
    }
  ],
  "metadata": {
    "colab": {
      "provenance": []
    },
    "kernelspec": {
      "display_name": "Python 3",
      "name": "python3"
    },
    "language_info": {
      "codemirror_mode": {
        "name": "ipython",
        "version": 3
      },
      "file_extension": ".py",
      "mimetype": "text/x-python",
      "name": "python",
      "nbconvert_exporter": "python",
      "pygments_lexer": "ipython3",
      "version": "3.11.1"
    }
  },
  "nbformat": 4,
  "nbformat_minor": 0
}
