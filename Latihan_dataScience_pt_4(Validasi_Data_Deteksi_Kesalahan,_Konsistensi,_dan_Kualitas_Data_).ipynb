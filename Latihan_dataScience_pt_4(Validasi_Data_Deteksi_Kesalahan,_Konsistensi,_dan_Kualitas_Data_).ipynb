{
  "cells": [
    {
      "cell_type": "markdown",
      "metadata": {},
      "source": [
        "# Tugas Sains Data: [harga-rumah-jaksel-dataset]\n",
        "- **Nama Kelompok:** \n",
        "[Moh Naufal Faqih (10222044)], [Andhika Fitra Ramadhan (10222043)], [Firman Firdaus (10222044)], [Ryan Azis Saputra (10222044)]\n",
        "- **Source Dataset:** [(https://www.kaggle.com/datasets/wisnuanggara/daftar-harga-rumah)]"
      ]
    },
    {
      "cell_type": "markdown",
      "metadata": {},
      "source": [
        "## Import Beberapa Library"
      ]
    },
    {
      "cell_type": "code",
      "execution_count": 39,
      "metadata": {
        "id": "GwNEXPGiYnIs"
      },
      "outputs": [],
      "source": [
        "import csv\n",
        "import math\n",
        "import matplotlib.pyplot as plt\n",
        "import numpy as np"
      ]
    },
    {
      "cell_type": "markdown",
      "metadata": {
        "id": "wBSay_6-GNai"
      },
      "source": [
        "## Muat Dataset dalam Bentuk CSV & Lakukan Validasi Kualitas\n"
      ]
    },
    {
      "cell_type": "code",
      "execution_count": null,
      "metadata": {
        "colab": {
          "base_uri": "https://localhost:8080/"
        },
        "id": "QjP9s1vZ_ExI",
        "outputId": "d5c09e96-9d48-4600-9fe9-f4d6425ad6e1"
      },
      "outputs": [
        {
          "data": {
            "text/plain": [
              "(['\\ufeffHARGA', 'LT', 'LB', 'JKT', 'JKM', 'GRS', 'KOTA'],\n",
              " [['28,000,000,000', '1100', '700', '5', '6', 'ADA', 'JAKSEL'],\n",
              "  ['19,000,000,000', '824', '800', '4', '4', 'ADA', 'JAKSEL'],\n",
              "  ['4,700,000,000', '500', '400', '4', '3', 'ADA', 'JAKSEL'],\n",
              "  ['4,900,000,000', '251', '300', '5', '4', 'ADA', 'JAKSEL'],\n",
              "  ['28,000,000,000', '1340', '575', '4', '5', 'ADA', 'JAKSEL']])"
            ]
          },
          "execution_count": 32,
          "metadata": {},
          "output_type": "execute_result"
        }
      ],
      "source": [
        "namaFile = 'DATASET\\HARGA RUMAH JAKSEL.csv'\n",
        "\n",
        "with open(namaFile, newline = '', encoding = 'utf-8') as file:\n",
        "  reader = csv.reader(file)\n",
        "  header = next(reader)\n",
        "  data = [row for row in reader]\n",
        "\n",
        "header, data[:5]"
      ]
    },
    {
      "cell_type": "markdown",
      "metadata": {},
      "source": [
        "## Assesing Data"
      ]
    },
    {
      "cell_type": "markdown",
      "metadata": {
        "id": "esJPij0eGhU0"
      },
      "source": [
        "### Proses Deteksi Missing Values"
      ]
    },
    {
      "cell_type": "code",
      "execution_count": 27,
      "metadata": {
        "colab": {
          "base_uri": "https://localhost:8080/"
        },
        "id": "LHQLxp4cDImG",
        "outputId": "30beb7ff-887e-4d5b-cc31-682457ea47a2"
      },
      "outputs": [
        {
          "name": "stdout",
          "output_type": "stream",
          "text": [
            "Tidak Ditemukan Missing Value.\n"
          ]
        }
      ],
      "source": [
        "missingValues = []\n",
        "\n",
        "for i, row in enumerate(data):\n",
        "  for j, value in enumerate(row):\n",
        "    if value.strip() == '' or value.lower() == \"nan\" or value is None:\n",
        "      missingValues.append((i + 1, j + 1))\n",
        "if missingValues:\n",
        "  print(f\"Missing value Ditemukan di: {missingValues}\")\n",
        "  for row, col in missingValues:\n",
        "    print(f\"Baris {row}, Kolom {col}: {data[row - 1][col - 1]}\")\n",
        "else:\n",
        "  print(\"Tidak Ditemukan Missing Value.\")"
      ]
    },
    {
      "cell_type": "markdown",
      "metadata": {},
      "source": []
    },
    {
      "cell_type": "markdown",
      "metadata": {},
      "source": [
        "### Proses Deteksi Duplikasi"
      ]
    },
    {
      "cell_type": "code",
      "execution_count": null,
      "metadata": {},
      "outputs": [
        {
          "name": "stdout",
          "output_type": "stream",
          "text": [
            "Data identik yang terduplikasi ditemukan:\n",
            " - Data: ('7,600,000,000', '278', '350', '4', '4', 'ADA', 'JAKSEL') ditemukan di baris: [7, 109]\n",
            " - Data: ('7,000,000,000', '384', '400', '4', '4', 'ADA', 'JAKSEL') ditemukan di baris: [14, 285]\n",
            " - Data: ('5,800,000,000', '144', '285', '4', '3', 'ADA', 'JAKSEL') ditemukan di baris: [19, 318, 709]\n",
            " - Data: ('40,000,000,000', '1500', '700', '4', '4', 'ADA', 'JAKSEL') ditemukan di baris: [23, 125]\n",
            " - Data: ('5,680,000,000', '151', '245', '3', '3', 'ADA', 'JAKSEL') ditemukan di baris: [27, 544]\n",
            " - Data: ('10,500,000,000', '220', '350', '4', '3', 'ADA', 'JAKSEL') ditemukan di baris: [28, 435]\n",
            " - Data: ('7,050,000,000', '128', '315', '3', '3', 'ADA', 'JAKSEL') ditemukan di baris: [29, 823]\n",
            " - Data: ('68,000,000,000', '470', '1000', '5', '5', 'ADA', 'JAKSEL') ditemukan di baris: [32, 837]\n",
            " - Data: ('85,000,000,000', '770', '500', '4', '4', 'ADA', 'JAKSEL') ditemukan di baris: [34, 844]\n",
            " - Data: ('20,900,000,000', '754', '500', '4', '4', 'ADA', 'JAKSEL') ditemukan di baris: [36, 319]\n",
            " - Data: ('14,000,000,000', '410', '800', '4', '4', 'ADA', 'JAKSEL') ditemukan di baris: [38, 299]\n",
            " - Data: ('14,000,000,000', '460', '400', '4', '3', 'ADA', 'JAKSEL') ditemukan di baris: [71, 607]\n",
            " - Data: ('8,000,000,000', '323', '317', '5', '4', 'ADA', 'JAKSEL') ditemukan di baris: [75, 107]\n",
            " - Data: ('10,000,000,000', '395', '450', '5', '5', 'ADA', 'JAKSEL') ditemukan di baris: [79, 592]\n",
            " - Data: ('5,500,000,000', '234', '115', '2', '2', 'ADA', 'JAKSEL') ditemukan di baris: [93, 785]\n",
            " - Data: ('16,000,000,000', '407', '575', '5', '4', 'ADA', 'JAKSEL') ditemukan di baris: [122, 717]\n",
            " - Data: ('55,000,000,000', '1500', '1200', '6', '6', 'ADA', 'JAKSEL') ditemukan di baris: [128, 239]\n",
            " - Data: ('21,000,000,000', '1042', '550', '7', '6', 'ADA', 'JAKSEL') ditemukan di baris: [144, 722]\n",
            " - Data: ('22,000,000,000', '455', '570', '4', '5', 'ADA', 'JAKSEL') ditemukan di baris: [149, 228, 740]\n",
            " - Data: ('15,000,000,000', '714', '750', '5', '5', 'ADA', 'JAKSEL') ditemukan di baris: [155, 167]\n",
            " - Data: ('8,000,000,000', '380', '450', '5', '5', 'ADA', 'JAKSEL') ditemukan di baris: [161, 191]\n",
            " - Data: ('18,900,000,000', '470', '660', '4', '4', 'TIDAK ADA', 'JAKSEL') ditemukan di baris: [162, 192]\n",
            " - Data: ('21,900,000,000', '377', '260', '6', '5', 'ADA', 'JAKSEL') ditemukan di baris: [164, 193]\n",
            " - Data: ('5,600,000,000', '269', '300', '4', '4', 'ADA', 'JAKSEL') ditemukan di baris: [165, 194]\n",
            " - Data: ('13,500,000,000', '384', '450', '4', '4', 'ADA', 'JAKSEL') ditemukan di baris: [172, 223]\n",
            " - Data: ('11,900,000,000', '239', '568', '4', '4', 'ADA', 'JAKSEL') ditemukan di baris: [175, 217]\n",
            " - Data: ('3,600,000,000', '164', '150', '4', '4', 'ADA', 'JAKSEL') ditemukan di baris: [183, 585]\n",
            " - Data: ('3,400,000,000', '95', '156', '4', '3', 'ADA', 'JAKSEL') ditemukan di baris: [184, 197]\n",
            " - Data: ('4,000,000,000', '117', '221', '4', '3', 'ADA', 'JAKSEL') ditemukan di baris: [195, 204]\n",
            " - Data: ('17,500,000,000', '518', '450', '5', '7', 'ADA', 'JAKSEL') ditemukan di baris: [203, 310, 388, 580, 683, 706, 745]\n",
            " - Data: ('20,000,000,000', '1040', '600', '4', '3', 'ADA', 'JAKSEL') ditemukan di baris: [209, 661]\n",
            " - Data: ('13,000,000,000', '616', '600', '5', '4', 'ADA', 'JAKSEL') ditemukan di baris: [218, 913]\n",
            " - Data: ('10,500,000,000', '500', '700', '4', '4', 'ADA', 'JAKSEL') ditemukan di baris: [222, 542, 599]\n",
            " - Data: ('19,000,000,000', '435', '650', '4', '4', 'ADA', 'JAKSEL') ditemukan di baris: [238, 284]\n",
            " - Data: ('6,000,000,000', '200', '272', '4', '4', 'ADA', 'JAKSEL') ditemukan di baris: [259, 400]\n",
            " - Data: ('10,000,000,000', '475', '600', '5', '5', 'TIDAK ADA', 'JAKSEL') ditemukan di baris: [288, 566]\n",
            " - Data: ('8,500,000,000', '307', '400', '7', '6', 'TIDAK ADA', 'JAKSEL') ditemukan di baris: [297, 552]\n",
            " - Data: ('1,350,000,000', '72', '150', '3', '3', 'TIDAK ADA', 'JAKSEL') ditemukan di baris: [323, 775]\n",
            " - Data: ('14,500,000,000', '240', '450', '4', '4', 'ADA', 'JAKSEL') ditemukan di baris: [337, 660]\n",
            " - Data: ('15,000,000,000', '291', '400', '4', '4', 'ADA', 'JAKSEL') ditemukan di baris: [344, 822, 880]\n",
            " - Data: ('6,000,000,000', '144', '250', '4', '3', 'ADA', 'JAKSEL') ditemukan di baris: [378, 530]\n",
            " - Data: ('39,000,000,000', '973', '1100', '4', '4', 'ADA', 'JAKSEL') ditemukan di baris: [416, 744]\n",
            " - Data: ('17,000,000,000', '465', '640', '4', '4', 'ADA', 'JAKSEL') ditemukan di baris: [423, 669]\n",
            " - Data: ('8,500,000,000', '250', '400', '4', '4', 'ADA', 'JAKSEL') ditemukan di baris: [425, 481]\n",
            " - Data: ('17,000,000,000', '440', '350', '4', '4', 'ADA', 'JAKSEL') ditemukan di baris: [436, 455]\n",
            " - Data: ('22,000,000,000', '754', '500', '4', '4', 'ADA', 'JAKSEL') ditemukan di baris: [441, 445]\n",
            " - Data: ('23,000,000,000', '806', '700', '4', '4', 'ADA', 'JAKSEL') ditemukan di baris: [454, 465]\n",
            " - Data: ('9,500,000,000', '251', '295', '4', '4', 'ADA', 'JAKSEL') ditemukan di baris: [457, 464]\n",
            " - Data: ('12,500,000,000', '512', '350', '3', '3', 'ADA', 'JAKSEL') ditemukan di baris: [487, 575]\n",
            " - Data: ('22,600,000,000', '754', '500', '4', '4', 'ADA', 'JAKSEL') ditemukan di baris: [489, 702]\n",
            " - Data: ('16,000,000,000', '1095', '450', '3', '4', 'ADA', 'JAKSEL') ditemukan di baris: [503, 520]\n",
            " - Data: ('40,000,000,000', '973', '1100', '4', '4', 'ADA', 'JAKSEL') ditemukan di baris: [516, 718]\n",
            " - Data: ('19,000,000,000', '800', '500', '5', '4', 'ADA', 'JAKSEL') ditemukan di baris: [523, 584]\n",
            " - Data: ('5,500,000,000', '150', '210', '4', '4', 'ADA', 'JAKSEL') ditemukan di baris: [541, 603]\n",
            " - Data: ('26,000,000,000', '600', '450', '4', '4', 'ADA', 'JAKSEL') ditemukan di baris: [558, 626]\n",
            " - Data: ('33,000,000,000', '585', '900', '7', '6', 'ADA', 'JAKSEL') ditemukan di baris: [560, 703]\n",
            " - Data: ('16,000,000,000', '587', '350', '4', '3', 'ADA', 'JAKSEL') ditemukan di baris: [576, 621]\n",
            " - Data: ('700,000,000', '60', '52', '3', '2', 'ADA', 'JAKSEL') ditemukan di baris: [797, 814]\n",
            " - Data: ('14,900,000,000', '291', '400', '4', '4', 'TIDAK ADA', 'JAKSEL') ditemukan di baris: [802, 857]\n",
            " - Data: ('1,200,000,000', '60', '70', '3', '2', 'ADA', 'JAKSEL') ditemukan di baris: [806, 818, 890]\n",
            "Total data identik yang terduplikasi: 130\n"
          ]
        }
      ],
      "source": [
        "# Deteksi Duplikasi Data pada Semua Kolom\n",
        "duplikasi_identik = {}\n",
        "\n",
        "for i, row in enumerate(data):\n",
        "    # Gabungkan semua kolom menjadi tuple untuk membandingkan\n",
        "    key = tuple(row)  # Menggunakan seluruh baris sebagai kunci\n",
        "    if key in duplikasi_identik:\n",
        "        duplikasi_identik[key].append(i + 1)  # Simpan baris duplikasi\n",
        "    else:\n",
        "        duplikasi_identik[key] = [i + 1]\n",
        "\n",
        "# Filter hanya data yang memiliki duplikasi\n",
        "duplikasi_identik = {key: value for key, value in duplikasi_identik.items() if len(value) > 1}\n",
        "totalDuplikasiIdentik = sum(len(rows) for rows in duplikasi_identik.values())\n",
        "\n",
        "# Output hasil\n",
        "if duplikasi_identik:\n",
        "    print(\"Data identik yang terduplikasi ditemukan:\")\n",
        "    for key, rows in duplikasi_identik.items():\n",
        "        print(f\" - Data: {key} ditemukan di baris: {rows}\")\n",
        "    print(f\"Total data identik yang terduplikasi: {totalDuplikasiIdentik}\")\n",
        "else:\n",
        "    print(\"Tidak ada data identik yang terduplikasi.\")"
      ]
    },
    {
      "cell_type": "markdown",
      "metadata": {},
      "source": []
    },
    {
      "cell_type": "code",
      "execution_count": null,
      "metadata": {},
      "outputs": [
        {
          "name": "stdout",
          "output_type": "stream",
          "text": [
            "Data duplikasi ditemukan pada kolom harga:\n",
            " - Nilai '28000000000.0' ditemukan di baris: [1, 5, 252, 413, 650, 746, 855, 875, 912, 927, 949, 975]\n",
            " - Nilai '19000000000.0' ditemukan di baris: [2, 67, 68, 215, 225, 238, 241, 250, 262, 284, 494, 497, 515, 523, 536, 549, 583, 584, 613, 701, 774]\n",
            " - Nilai '4700000000.0' ditemukan di baris: [3, 682, 758]\n",
            " - Nilai '4900000000.0' ditemukan di baris: [4, 453, 910]\n",
            " - Nilai '10000000000.0' ditemukan di baris: [6, 79, 245, 280, 288, 316, 348, 383, 429, 566, 592, 671, 680, 728]\n",
            " - Nilai '7600000000.0' ditemukan di baris: [7, 109]\n",
            " - Nilai '5250000000.0' ditemukan di baris: [8, 433, 675]\n",
            " - Nilai '10700000000.0' ditemukan di baris: [11, 137, 677]\n",
            " - Nilai '4200000000.0' ditemukan di baris: [12, 104, 471, 795, 809, 883]\n",
            " - Nilai '8500000000.0' ditemukan di baris: [13, 76, 102, 213, 274, 297, 314, 375, 405, 425, 481, 552, 561, 624, 757, 864, 921, 925]\n",
            " - Nilai '7000000000.0' ditemukan di baris: [14, 285, 342, 361, 362, 414, 475, 601, 615, 629, 879, 942]\n",
            " - Nilai '20000000000.0' ditemukan di baris: [15, 41, 91, 147, 206, 209, 219, 267, 317, 330, 352, 363, 366, 403, 492, 507, 661, 663, 666, 689, 735, 976]\n",
            " - Nilai '9500000000.0' ditemukan di baris: [16, 65, 214, 349, 387, 457, 464, 501, 514, 535, 553, 623, 825, 871]\n",
            " - Nilai '11000000000.0' ditemukan di baris: [18, 127, 364, 372, 452, 587, 719, 766, 842, 869, 874, 930, 956]\n",
            " - Nilai '5800000000.0' ditemukan di baris: [19, 318, 451, 468, 577, 598, 614, 709, 764, 894, 971]\n",
            " - Nilai '35000000000.0' ditemukan di baris: [20, 439, 461, 498, 834]\n",
            " - Nilai '14000000000.0' ditemukan di baris: [21, 38, 71, 115, 277, 299, 306, 325, 371, 379, 548, 579, 607, 610, 625, 755, 772, 793]\n",
            " - Nilai '5000000000.0' ditemukan di baris: [22, 46, 166, 268, 301, 476, 643, 668, 753, 906]\n",
            " - Nilai '40000000000.0' ditemukan di baris: [23, 125, 336, 516, 554, 591, 718, 848]\n",
            " - Nilai '5200000000.0' ditemukan di baris: [25, 70, 646, 734, 861]\n",
            " - Nilai '25000000000.0' ditemukan di baris: [26, 59, 89, 198, 263, 291, 302, 303, 338, 347, 395, 402, 420, 440, 496, 687, 773, 810, 940, 981]\n",
            " - Nilai '5680000000.0' ditemukan di baris: [27, 544]\n",
            " - Nilai '10500000000.0' ditemukan di baris: [28, 51, 222, 329, 370, 431, 435, 533, 542, 599, 727, 729, 790, 915, 950, 968]\n",
            " - Nilai '7050000000.0' ditemukan di baris: [29, 823]\n",
            " - Nilai '6500000000.0' ditemukan di baris: [31, 57, 130, 139, 257, 271, 273, 327, 394, 443, 458, 593, 667, 681, 711, 725, 916, 920, 946]\n",
            " - Nilai '68000000000.0' ditemukan di baris: [32, 442, 837, 952]\n",
            " - Nilai '3000000000.0' ditemukan di baris: [33, 845]\n",
            " - Nilai '85000000000.0' ditemukan di baris: [34, 760, 844, 989]\n",
            " - Nilai '19500000000.0' ditemukan di baris: [35, 467, 518, 565, 752]\n",
            " - Nilai '20900000000.0' ditemukan di baris: [36, 319]\n",
            " - Nilai '15500000000.0' ditemukan di baris: [37, 120, 177, 264, 600, 737, 780, 895, 914]\n",
            " - Nilai '39000000000.0' ditemukan di baris: [39, 369, 416, 691, 710, 744]\n",
            " - Nilai '8000000000.0' ditemukan di baris: [40, 49, 75, 107, 133, 135, 153, 161, 191, 205, 527, 769, 932]\n",
            " - Nilai '17500000000.0' ditemukan di baris: [42, 50, 56, 118, 152, 176, 203, 310, 388, 410, 432, 580, 683, 706, 708, 745]\n",
            " - Nilai '34000000000.0' ditemukan di baris: [43, 886]\n",
            " - Nilai '7500000000.0' ditemukan di baris: [44, 88, 124, 174, 220, 412, 808, 862, 887, 941, 965]\n",
            " - Nilai '18500000000.0' ditemukan di baris: [45, 55, 58, 99, 182, 539, 605, 636, 665]\n",
            " - Nilai '16000000000.0' ditemukan di baris: [47, 53, 122, 140, 231, 261, 292, 331, 345, 367, 399, 488, 503, 520, 576, 621, 717, 721, 770, 997]\n",
            " - Nilai '13000000000.0' ditemukan di baris: [48, 63, 216, 218, 230, 282, 313, 473, 480, 484, 521, 627, 913]\n",
            " - Nilai '35500000000.0' ditemukan di baris: [52, 674, 787]\n",
            " - Nilai '23000000000.0' ditemukan di baris: [60, 143, 150, 321, 324, 396, 454, 465, 573, 694, 696, 835, 905]\n",
            " - Nilai '15000000000.0' ditemukan di baris: [62, 83, 155, 167, 171, 190, 202, 244, 249, 258, 312, 326, 332, 344, 351, 353, 401, 404, 422, 463, 478, 493, 500, 504, 545, 559, 619, 640, 670, 686, 705, 730, 742, 743, 786, 820, 822, 858, 880, 881, 911, 943, 953, 980]\n",
            " - Nilai '33000000000.0' ditemukan di baris: [64, 295, 334, 469, 560, 703, 843]\n",
            " - Nilai '21500000000.0' ditemukan di baris: [69, 616, 637]\n",
            " - Nilai '55000000000.0' ditemukan di baris: [72, 114, 117, 128, 151, 224, 239, 426, 907]\n",
            " - Nilai '6250000000.0' ditemukan di baris: [73, 246]\n",
            " - Nilai '29000000000.0' ditemukan di baris: [74, 92, 652, 947, 999]\n",
            " - Nilai '18000000000.0' ditemukan di baris: [77, 156, 185, 189, 232, 269, 474, 499, 555, 630, 672, 678, 693, 924]\n",
            " - Nilai '4500000000.0' ditemukan di baris: [78, 81, 187, 188, 596, 635, 648, 658, 884, 938, 992, 998]\n",
            " - Nilai '2800000000.0' ditemukan di baris: [82, 538, 840, 926]\n",
            " - Nilai '7800000000.0' ditemukan di baris: [84, 170, 247, 959]\n",
            " - Nilai '21000000000.0' ditemukan di baris: [85, 96, 138, 144, 158, 290, 294, 377, 522, 622, 638, 679, 722, 892, 923, 991]\n",
            " - Nilai '38000000000.0' ditemukan di baris: [86, 308, 340, 617, 692, 891, 937]\n",
            " - Nilai '36000000000.0' ditemukan di baris: [90, 449, 571, 634, 673, 751]\n",
            " - Nilai '5500000000.0' ditemukan di baris: [93, 136, 178, 541, 589, 603, 631, 699, 720, 724, 785, 972]\n",
            " - Nilai '22000000000.0' ditemukan di baris: [98, 149, 228, 365, 441, 445, 446, 485, 505, 540, 562, 732, 740, 889]\n",
            " - Nilai '16500000000.0' ditemukan di baris: [100, 460, 726]\n",
            " - Nilai '7700000000.0' ditemukan di baris: [103, 279, 398, 644, 900]\n",
            " - Nilai '15700000000.0' ditemukan di baris: [105, 856]\n",
            " - Nilai '17000000000.0' ditemukan di baris: [106, 169, 240, 253, 272, 287, 411, 423, 427, 428, 436, 455, 482, 519, 528, 532, 543, 550, 572, 578, 604, 659, 669, 767, 827]\n",
            " - Nilai '9550000000.0' ditemukan di baris: [108, 148, 236, 611, 741]\n",
            " - Nilai '5900000000.0' ditemukan di baris: [111, 354, 618, 662, 749, 919, 931, 974]\n",
            " - Nilai '6000000000.0' ditemukan di baris: [112, 235, 259, 293, 378, 400, 409, 530, 939]\n",
            " - Nilai '10800000000.0' ditemukan di baris: [113, 510]\n",
            " - Nilai '6900000000.0' ditemukan di baris: [116, 121, 134, 260, 506, 653, 738, 970, 973]\n",
            " - Nilai '3500000000.0' ditemukan di baris: [119, 776, 778, 994]\n",
            " - Nilai '11900000000.0' ditemukan di baris: [123, 175, 217, 254]\n",
            " - Nilai '12500000000.0' ditemukan di baris: [126, 487, 575, 853, 865]\n",
            " - Nilai '12000000000.0' ditemukan di baris: [129, 159, 358, 382, 430, 526, 531, 642, 704, 712, 841]\n",
            " - Nilai '5700000000.0' ditemukan di baris: [132, 570]\n",
            " - Nilai '13500000000.0' ditemukan di baris: [141, 172, 223, 275, 281, 434, 479, 546, 551, 633, 676, 796, 821, 955]\n",
            " - Nilai '15750000000.0' ditemukan di baris: [142, 210]\n",
            " - Nilai '4300000000.0' ditemukan di baris: [146, 212, 390, 391]\n",
            " - Nilai '4600000000.0' ditemukan di baris: [154, 612, 794]\n",
            " - Nilai '18900000000.0' ditemukan di baris: [162, 192]\n",
            " - Nilai '21900000000.0' ditemukan di baris: [164, 193, 654]\n",
            " - Nilai '5600000000.0' ditemukan di baris: [165, 194, 307]\n",
            " - Nilai '4800000000.0' ditemukan di baris: [168, 547, 878, 908]\n",
            " - Nilai '9900000000.0' ditemukan di baris: [179, 343, 376]\n",
            " - Nilai '3600000000.0' ditemukan di baris: [183, 201, 585, 945, 984]\n",
            " - Nilai '3400000000.0' ditemukan di baris: [184, 197]\n",
            " - Nilai '4000000000.0' ditemukan di baris: [195, 204, 406, 418, 933]\n",
            " - Nilai '11500000000.0' ditemukan di baris: [199, 357, 407, 582]\n",
            " - Nilai '30000000000.0' ditemukan di baris: [207, 233, 309, 350, 491, 647, 649, 685, 830, 868, 904, 960]\n",
            " - Nilai '27000000000.0' ditemukan di baris: [208, 283, 459, 966]\n",
            " - Nilai '60000000000.0' ditemukan di baris: [229, 509, 513, 893]\n",
            " - Nilai '32000000000.0' ditemukan di baris: [237, 828, 831, 922]\n",
            " - Nilai '6800000000.0' ditemukan di baris: [248, 289, 328, 594, 609, 733, 748, 763, 967]\n",
            " - Nilai '6750000000.0' ditemukan di baris: [251, 903, 983, 988]\n",
            " - Nilai '7900000000.0' ditemukan di baris: [266, 360, 437, 450, 563, 657]\n",
            " - Nilai '1100000000.0' ditemukan di baris: [270, 567, 995]\n",
            " - Nilai '11200000000.0' ditemukan di baris: [278, 723]\n",
            " - Nilai '27500000000.0' ditemukan di baris: [286, 408]\n",
            " - Nilai '5400000000.0' ditemukan di baris: [305, 771]\n",
            " - Nilai '45000000000.0' ditemukan di baris: [315, 508, 896]\n",
            " - Nilai '24000000000.0' ditemukan di baris: [320, 373, 639]\n",
            " - Nilai '9000000000.0' ditemukan di baris: [322, 333, 341, 346, 385, 415, 419, 569, 595, 700, 918]\n",
            " - Nilai '1350000000.0' ditemukan di baris: [323, 775, 804]\n",
            " - Nilai '6200000000.0' ditemukan di baris: [335, 339, 462]\n",
            " - Nilai '14500000000.0' ditemukan di baris: [337, 374, 602, 655, 660, 750, 777, 826, 859]\n",
            " - Nilai '50000000000.0' ditemukan di baris: [359, 851]\n",
            " - Nilai '12900000000.0' ditemukan di baris: [380, 877]\n",
            " - Nilai '8250000000.0' ditemukan di baris: [389, 768]\n",
            " - Nilai '3250000000.0' ditemukan di baris: [393, 899, 978]\n",
            " - Nilai '42000000000.0' ditemukan di baris: [417, 873, 961]\n",
            " - Nilai '3800000000.0' ditemukan di baris: [421, 788]\n",
            " - Nilai '7300000000.0' ditemukan di baris: [424, 882, 929]\n",
            " - Nilai '2500000000.0' ditemukan di baris: [444, 664]\n",
            " - Nilai '5100000000.0' ditemukan di baris: [447, 525]\n",
            " - Nilai '43000000000.0' ditemukan di baris: [483, 632]\n",
            " - Nilai '22600000000.0' ditemukan di baris: [489, 702]\n",
            " - Nilai '75000000000.0' ditemukan di baris: [490, 836, 863]\n",
            " - Nilai '8700000000.0' ditemukan di baris: [495, 645]\n",
            " - Nilai '25500000000.0' ditemukan di baris: [502, 537]\n",
            " - Nilai '14400000000.0' ditemukan di baris: [512, 716, 759]\n",
            " - Nilai '1880000000.0' ditemukan di baris: [524, 811]\n",
            " - Nilai '6700000000.0' ditemukan di baris: [556, 761]\n",
            " - Nilai '26000000000.0' ditemukan di baris: [558, 581, 626, 695, 736]\n",
            " - Nilai '5300000000.0' ditemukan di baris: [586, 656, 690, 812]\n",
            " - Nilai '19800000000.0' ditemukan di baris: [590, 608]\n",
            " - Nilai '4400000000.0' ditemukan di baris: [606, 762]\n",
            " - Nilai '14900000000.0' ditemukan di baris: [620, 802, 857]\n",
            " - Nilai '11100000000.0' ditemukan di baris: [688, 754]\n",
            " - Nilai '2200000000.0' ditemukan di baris: [779, 817, 982]\n",
            " - Nilai '1300000000.0' ditemukan di baris: [781, 799, 813, 934]\n",
            " - Nilai '1200000000.0' ditemukan di baris: [782, 806, 818, 890, 936]\n",
            " - Nilai '4970000000.0' ditemukan di baris: [789, 872, 951]\n",
            " - Nilai '700000000.0' ditemukan di baris: [797, 814]\n",
            " - Nilai '65000000000.0' ditemukan di baris: [846, 990]\n",
            " - Nilai '2950000000.0' ditemukan di baris: [854, 928]\n",
            " - Nilai '1700000000.0' ditemukan di baris: [898, 1000]\n",
            " - Nilai '1750000000.0' ditemukan di baris: [902, 987]\n",
            "Total data duplikasi: 735\n"
          ]
        }
      ],
      "source": [
        "# Deteksi Duplikasi Data pada Kolom Harga\n",
        "harga_data = [row[0].strip() for row in data if row[0].strip() != \"\" and row[0].lower() != \"nan\"]\n",
        "\n",
        "# Mencari duplikasi\n",
        "duplikasi = {}\n",
        "for i, value in enumerate(harga_data):\n",
        "    if value in duplikasi:\n",
        "        duplikasi[value].append(i + 1)  # Simpan baris duplikasi\n",
        "    else:\n",
        "        duplikasi[value] = [i + 1]\n",
        "\n",
        "# Filter hanya data yang memiliki duplikasi\n",
        "duplikasi = {key: value for key, value in duplikasi.items() if len(value) > 1}\n",
        "\n",
        "# Hitung total jumlah data yang duplikasi\n",
        "total_duplikasi = sum(len(rows) - 1 for rows in duplikasi.values())\n",
        "\n",
        "# Output hasil\n",
        "if duplikasi:\n",
        "    print(\"Data duplikasi ditemukan pada kolom harga:\")\n",
        "    for value, rows in duplikasi.items():\n",
        "        print(f\" - Nilai '{value}' ditemukan di baris: {rows}\")\n",
        "    print(f\"Total jumlah data yang duplikasi: {total_duplikasi}\")\n",
        "else:\n",
        "    print(\"Tidak ada data duplikasi pada kolom harga.\")"
      ]
    },
    {
      "cell_type": "markdown",
      "metadata": {},
      "source": []
    },
    {
      "cell_type": "markdown",
      "metadata": {},
      "source": [
        "### Proses Deteksi Outlier menggunakan metode IQR"
      ]
    },
    {
      "cell_type": "code",
      "execution_count": 47,
      "metadata": {
        "id": "JkkSjZZWaggc"
      },
      "outputs": [
        {
          "name": "stdout",
          "output_type": "stream",
          "text": [
            "Total Outlier: 65\n",
            "Q1: 6750000000.0, Q3: 20000000000.0, IQR: 13250000000.0\n",
            "batas bawah: -13125000000.0, batas atas: 39875000000.0\n",
            "Outlier ditemukan: [40000000000.0, 40000000000.0, 40000000000.0, 40000000000.0, 40000000000.0, 40000000000.0, 40000000000.0, 40000000000.0, 42000000000.0, 42000000000.0, 42000000000.0, 43000000000.0, 43000000000.0, 45000000000.0, 45000000000.0, 45000000000.0, 47000000000.0, 49000000000.0, 50000000000.0, 50000000000.0, 55000000000.0, 55000000000.0, 55000000000.0, 55000000000.0, 55000000000.0, 55000000000.0, 55000000000.0, 55000000000.0, 55000000000.0, 56000000000.0, 57000000000.0, 60000000000.0, 60000000000.0, 60000000000.0, 60000000000.0, 65000000000.0, 65000000000.0, 68000000000.0, 68000000000.0, 68000000000.0, 68000000000.0, 72000000000.0, 75000000000.0, 75000000000.0, 75000000000.0, 77500000000.0, 80000000000.0, 85000000000.0, 85000000000.0, 85000000000.0, 85000000000.0, 85500000000.0, 90000000000.0, 95000000000.0, 100000000000.0, 110000000000.0, 120000000000.0, 135000000000.0, 165000000000.0, 168000000000.0, 169000000000.0, 175230000000.0, 180000000000.0, 185000000000.0, 250000000000.0]\n"
          ]
        }
      ],
      "source": [
        "# Deteksi Outlier\n",
        "def hitungIQR(data):\n",
        "    data.sort()\n",
        "    n = len(data)\n",
        "    q1 = data[n // 4] if n % 4 == 0 else (data[n // 4] + data[n // 4 - 1]) / 2\n",
        "    q3 = data[3 * n // 4] if (3*n) % 4 == 0 else (data[3 * n // 4] + data[3*n // 4 - 1]) / 2\n",
        "    iqr = q3 - q1\n",
        "    return q1, q3, iqr\n",
        "\n",
        "dataHarga = [float(row[0].replace(',', '')) for row in data if row[0].strip() != '' and row[0].lower() != 'nan']\n",
        "q1, q3, iqr = hitungIQR(dataHarga)\n",
        "\n",
        "lowerBound = q1 - 1.5 * iqr\n",
        "upperBound = q3 + 1.5 * iqr\n",
        "\n",
        "outliers = [value for value in dataHarga if value < lowerBound or value > upperBound]\n",
        "totalOutliers = len(outliers)\n",
        "print(f\"Total Outlier: {totalOutliers}\")\n",
        "\n",
        "print(f\"Q1: {q1}, Q3: {q3}, IQR: {iqr}\")\n",
        "print(f\"batas bawah: {lowerBound}, batas atas: {upperBound}\")\n",
        "if outliers:\n",
        "    print(f\"Outlier ditemukan: {outliers}\")\n",
        "else:\n",
        "    print(\"Tidak ada outlier ditemukan\")"
      ]
    },
    {
      "cell_type": "markdown",
      "metadata": {},
      "source": []
    },
    {
      "cell_type": "markdown",
      "metadata": {},
      "source": [
        "## Cleaning Data"
      ]
    },
    {
      "cell_type": "markdown",
      "metadata": {},
      "source": [
        "### Proses Menangani Missing Value"
      ]
    },
    {
      "cell_type": "code",
      "execution_count": null,
      "metadata": {},
      "outputs": [],
      "source": []
    },
    {
      "cell_type": "markdown",
      "metadata": {},
      "source": [
        "### Proses Menangani Duplikasi Data"
      ]
    },
    {
      "cell_type": "code",
      "execution_count": null,
      "metadata": {},
      "outputs": [],
      "source": []
    },
    {
      "cell_type": "markdown",
      "metadata": {},
      "source": [
        "### Proses Menangani Outlier"
      ]
    },
    {
      "cell_type": "code",
      "execution_count": null,
      "metadata": {},
      "outputs": [],
      "source": []
    },
    {
      "cell_type": "markdown",
      "metadata": {},
      "source": [
        "## Visualisasi Data (Histogram dan Boxplot)"
      ]
    },
    {
      "cell_type": "code",
      "execution_count": 43,
      "metadata": {},
      "outputs": [
        {
          "data": {
            "image/png": "[encoded data removed]",
            "text/plain": [
              "<Figure size 800x600 with 1 Axes>"
            ]
          },
          "metadata": {},
          "output_type": "display_data"
        }
      ],
      "source": [
        "# visualisasi data( boxplot)\n",
        "log_data_harga = np.log10(dataHarga)\n",
        "plt.figure(figsize=(8, 6))\n",
        "plt.boxplot(log_data_harga, vert=False, patch_artist=True, boxprops=dict(facecolor='lightblue', color='blue'))\n",
        "plt.title(\"Boxplot Kolom Harga\")\n",
        "plt.xlabel(\"log10(Harga)\")\n",
        "plt.grid(axis='x', linestyle='--', alpha=0.7)\n",
        "\n",
        "# Tampilkan plot\n",
        "plt.show()"
      ]
    },
    {
      "cell_type": "markdown",
      "metadata": {},
      "source": []
    },
    {
      "cell_type": "code",
      "execution_count": 40,
      "metadata": {},
      "outputs": [
        {
          "data": {
            "image/png": "[encoded data removed]",
            "text/plain": [
              "<Figure size 800x600 with 1 Axes>"
            ]
          },
          "metadata": {},
          "output_type": "display_data"
        }
      ],
      "source": [
        "log_data_harga = np.log10(dataHarga)\n",
        "\n",
        "# Membuat histogram\n",
        "plt.figure(figsize=(8, 6))\n",
        "plt.hist(log_data_harga, bins=20, color='skyblue', edgecolor='black', alpha=0.7)\n",
        "plt.title(\"Distribusi Data Kolom Harga (Log Transformasi)\")\n",
        "plt.xlabel(\"Log10(Harga)\")\n",
        "plt.ylabel(\"Frekuensi\")\n",
        "plt.grid(axis='y', linestyle='--', alpha=0.7)\n",
        "\n",
        "# Tampilkan plot\n",
        "plt.show()"
      ]
    },
    {
      "cell_type": "markdown",
      "metadata": {},
      "source": []
    },
    {
      "cell_type": "markdown",
      "metadata": {},
      "source": [
        "## Kesimpulan"
      ]
    },
    {
      "cell_type": "code",
      "execution_count": null,
      "metadata": {},
      "outputs": [],
      "source": []
    },
    {
      "cell_type": "markdown",
      "metadata": {
        "id": "jo0_W3YEaVyz"
      },
      "source": [
        "# Statistika Deskriptif"
      ]
    },
    {
      "cell_type": "code",
      "execution_count": 45,
      "metadata": {
        "colab": {
          "base_uri": "https://localhost:8080/"
        },
        "id": "zT3qZrTEIdeL",
        "outputId": "9b60975e-df2f-4e47-d02a-12b84c543086"
      },
      "outputs": [
        {
          "name": "stdout",
          "output_type": "stream",
          "text": [
            "Mean: 17464194000.0\n",
            "Median: 13450000000.0\n",
            "Modus dari data adalah: [15000000000.0]\n",
            "Modus: None\n",
            "harga minimum: 430000000.0\n",
            "harga maksimum: 250000000000.0\n",
            "Rentang: 249570000000.0\n",
            "Varians: 4.323411859963641e+20\n",
            "Standar Deviasi: 20792815730.351772\n"
          ]
        }
      ],
      "source": [
        "def mean(data):\n",
        "  return sum(data) / len(data)\n",
        "\n",
        "def median(data):\n",
        "  data.sort()\n",
        "  if len(data) % 2 == 1:\n",
        "    return data[len(data) // 2]\n",
        "  else:\n",
        "    return (data[len(data) // 2 - 1] + data[len(data) // 2]) / 2\n",
        "\n",
        "def modus(data):\n",
        "  frekuensi = {}\n",
        "  for value in data:\n",
        "    if value in frekuensi:\n",
        "      frekuensi[value] += 1\n",
        "    else:\n",
        "      frekuensi[value] = 1\n",
        "  maxFrekuensi = max(frekuensi.values())\n",
        "  modus = [key for key, value in frekuensi.items() if value == maxFrekuensi]\n",
        "  if len(modus) == 1:\n",
        "    print(f\"Modus dari data adalah: {modus}\")\n",
        "  elif len(modus) > 1:\n",
        "    print(\"multimode dari data adalah: \", modus)\n",
        "  else:\n",
        "    print(\"tidak ada modus\")\n",
        "\n",
        "dataHarga = [float(row[0].replace(',', '')) for row in cleanedData if row is not None]\n",
        "print(f\"Mean: {mean(dataHarga)}\")\n",
        "print(f\"Median: {median(dataHarga)}\")\n",
        "print(f\"Modus: {modus(dataHarga)}\")\n",
        "\n",
        "hargaMin = min(dataHarga)\n",
        "print(f\"harga minimum: {hargaMin}\")\n",
        "hargaMax = max(dataHarga)\n",
        "print(f\"harga maksimum: {hargaMax}\")\n",
        "\n",
        "Range = hargaMax - hargaMin\n",
        "print(f\"Rentang: {Range}\")\n",
        "\n",
        "varians = sum((x - mean(dataHarga)) ** 2 for x in dataHarga) / len(dataHarga)\n",
        "print(f\"Varians: {varians}\")\n",
        "\n",
        "standarDeviasi = math.sqrt(varians)\n",
        "print(f\"Standar Deviasi: {standarDeviasi}\")"
      ]
    },
    {
      "cell_type": "code",
      "execution_count": null,
      "metadata": {
        "id": "cUVcpKXHOHEy"
      },
      "outputs": [],
      "source": []
    }
  ],
  "metadata": {
    "colab": {
      "provenance": []
    },
    "kernelspec": {
      "display_name": "Python 3",
      "name": "python3"
    },
    "language_info": {
      "codemirror_mode": {
        "name": "ipython",
        "version": 3
      },
      "file_extension": ".py",
      "mimetype": "text/x-python",
      "name": "python",
      "nbconvert_exporter": "python",
      "pygments_lexer": "ipython3",
      "version": "3.11.1"
    }
  },
  "nbformat": 4,
  "nbformat_minor": 0
}
